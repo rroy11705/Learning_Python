{
 "cells": [
  {
   "cell_type": "code",
   "execution_count": null,
   "id": "623b176f",
   "metadata": {},
   "outputs": [],
   "source": [
    "n = int(input(\"Enter a number\"))\n",
    "\n",
    "ans = 1\n",
    "\n",
    "while (n > 0):\n",
    "    ans *= n\n",
    "    n -= 1\n",
    "\n",
    "print(ans)"
   ]
  },
  {
   "cell_type": "code",
   "execution_count": null,
   "id": "b897d4b0",
   "metadata": {},
   "outputs": [],
   "source": [
    "d = {'a':100, 'b':20, 'c':30, 'e':20, 'k':{'x':10}, 'v':[1,2,3]}"
   ]
  },
  {
   "cell_type": "code",
   "execution_count": null,
   "id": "6fb00c46",
   "metadata": {},
   "outputs": [],
   "source": [
    "for i in d['v']:"
   ]
  },
  {
   "cell_type": "code",
   "execution_count": null,
   "id": "167d93e6",
   "metadata": {},
   "outputs": [],
   "source": [
    "for i in d['v']:\n",
    "    print(i)"
   ]
  },
  {
   "cell_type": "code",
   "execution_count": null,
   "id": "b5c82046",
   "metadata": {},
   "outputs": [],
   "source": [
    "tp = ((1,2,3), 7, (45,66,67))"
   ]
  },
  {
   "cell_type": "code",
   "execution_count": null,
   "id": "84f8fbad",
   "metadata": {},
   "outputs": [],
   "source": [
    "for i in tp:\n",
    "    if isinstance(i,tuple):\n",
    "        print(i)"
   ]
  },
  {
   "cell_type": "code",
   "execution_count": null,
   "id": "71ba2840",
   "metadata": {},
   "outputs": [],
   "source": [
    "emp_info = {}\n",
    "\n",
    "while True:\n",
    "    print(\"1. Create Employee Records: \")\n",
    "    print(\"2. Update Employee Details: \")\n",
    "    print(\"3. Delete Employee Record: \")\n",
    "    print(\"4. Display Employee Records: \")\n",
    "    print(\"5. Exit: \")\n",
    "    \n",
    "    ch = int(input(\"Enter your chioce[1-5]: \"))\n",
    "    if ch == 1:\n",
    "        name = input(\"Enter the Employee Name: \")\n",
    "        emp_id = int(input(\"Enter the Employee ID: \"))\n",
    "        ph = input(\"Enter Employee Phone number: \")\n",
    "        tech = input(\"Enter Technologies [coma separated, eg: C++, Python, .Net]: \")\n",
    "        emp_info[emp_id] = {\n",
    "            \"name\": name,\n",
    "            \"phone\": ph,\n",
    "            \"tech\": tech.split(\",\")\n",
    "        }\n",
    "    elif ch == 2:\n",
    "        who = int(input(\"Enter Employee ID of the Employee whose details you want to change: \"))\n",
    "        rec = emp_info[who]\n",
    "        for field, value in rec.items():\n",
    "            new = input(\"{} {}\".format(field, value))\n",
    "            emp_info[who][field] == value if new == '' else new\n",
    "    elif ch == 3:\n",
    "        who = int(input(\"Enter the Employee ID:\"))\n",
    "        if who in wmp_info:\n",
    "            del emp_info[who]\n",
    "        else:\n",
    "            print(\"Record not found\")\n",
    "    elif ch == 4:\n",
    "        pass\n",
    "    elif ch == 5:\n",
    "        break"
   ]
  },
  {
   "cell_type": "code",
   "execution_count": null,
   "id": "ad8fce24",
   "metadata": {},
   "outputs": [],
   "source": [
    "#list Comprehension\n",
    "\n",
    "lst = [x for x in range(10)]"
   ]
  },
  {
   "cell_type": "code",
   "execution_count": null,
   "id": "f2b376a6",
   "metadata": {},
   "outputs": [],
   "source": [
    "lst"
   ]
  },
  {
   "cell_type": "code",
   "execution_count": null,
   "id": "f091323c",
   "metadata": {},
   "outputs": [],
   "source": [
    "#conver tuple to dict\n",
    "\n",
    "tp = (45, 77, 109, 'data', ['raj', 'rohan'])"
   ]
  },
  {
   "cell_type": "code",
   "execution_count": null,
   "id": "c2bd1846",
   "metadata": {},
   "outputs": [],
   "source": [
    "#method 1\n",
    "{k:tp[k] for k in range(len(tp))}"
   ]
  },
  {
   "cell_type": "code",
   "execution_count": 17,
   "id": "26d98fb5",
   "metadata": {},
   "outputs": [
    {
     "data": {
      "text/plain": [
       "{0: 45, 1: 77, 2: 109, 3: 'data', 4: ['raj', 'rohan']}"
      ]
     },
     "execution_count": 17,
     "metadata": {},
     "output_type": "execute_result"
    }
   ],
   "source": [
    "#method 2\n",
    "{tp.index(v):v for v in tp}"
   ]
  },
  {
   "cell_type": "code",
   "execution_count": null,
   "id": "219275c3",
   "metadata": {},
   "outputs": [],
   "source": [
    "#rev tuple\n",
    "tp[::-1]"
   ]
  },
  {
   "cell_type": "code",
   "execution_count": null,
   "id": "60089e56",
   "metadata": {},
   "outputs": [],
   "source": [
    "s={2,4,6,8,90,88,91}"
   ]
  },
  {
   "cell_type": "code",
   "execution_count": 16,
   "id": "93903da1",
   "metadata": {},
   "outputs": [
    {
     "data": {
      "text/plain": [
       "set"
      ]
     },
     "execution_count": 16,
     "metadata": {},
     "output_type": "execute_result"
    }
   ],
   "source": [
    "type(s)"
   ]
  },
  {
   "cell_type": "code",
   "execution_count": 18,
   "id": "8d03b1a1",
   "metadata": {},
   "outputs": [
    {
     "data": {
      "text/plain": [
       "['__and__',\n",
       " '__class__',\n",
       " '__contains__',\n",
       " '__delattr__',\n",
       " '__dir__',\n",
       " '__doc__',\n",
       " '__eq__',\n",
       " '__format__',\n",
       " '__ge__',\n",
       " '__getattribute__',\n",
       " '__gt__',\n",
       " '__hash__',\n",
       " '__iand__',\n",
       " '__init__',\n",
       " '__init_subclass__',\n",
       " '__ior__',\n",
       " '__isub__',\n",
       " '__iter__',\n",
       " '__ixor__',\n",
       " '__le__',\n",
       " '__len__',\n",
       " '__lt__',\n",
       " '__ne__',\n",
       " '__new__',\n",
       " '__or__',\n",
       " '__rand__',\n",
       " '__reduce__',\n",
       " '__reduce_ex__',\n",
       " '__repr__',\n",
       " '__ror__',\n",
       " '__rsub__',\n",
       " '__rxor__',\n",
       " '__setattr__',\n",
       " '__sizeof__',\n",
       " '__str__',\n",
       " '__sub__',\n",
       " '__subclasshook__',\n",
       " '__xor__',\n",
       " 'add',\n",
       " 'clear',\n",
       " 'copy',\n",
       " 'difference',\n",
       " 'difference_update',\n",
       " 'discard',\n",
       " 'intersection',\n",
       " 'intersection_update',\n",
       " 'isdisjoint',\n",
       " 'issubset',\n",
       " 'issuperset',\n",
       " 'pop',\n",
       " 'remove',\n",
       " 'symmetric_difference',\n",
       " 'symmetric_difference_update',\n",
       " 'union',\n",
       " 'update']"
      ]
     },
     "execution_count": 18,
     "metadata": {},
     "output_type": "execute_result"
    }
   ],
   "source": [
    "dir(s)"
   ]
  },
  {
   "cell_type": "code",
   "execution_count": 19,
   "id": "dbbed962",
   "metadata": {},
   "outputs": [
    {
     "data": {
      "text/plain": [
       "['__add__',\n",
       " '__class__',\n",
       " '__contains__',\n",
       " '__delattr__',\n",
       " '__dir__',\n",
       " '__doc__',\n",
       " '__eq__',\n",
       " '__format__',\n",
       " '__ge__',\n",
       " '__getattribute__',\n",
       " '__getitem__',\n",
       " '__getnewargs__',\n",
       " '__gt__',\n",
       " '__hash__',\n",
       " '__init__',\n",
       " '__init_subclass__',\n",
       " '__iter__',\n",
       " '__le__',\n",
       " '__len__',\n",
       " '__lt__',\n",
       " '__mul__',\n",
       " '__ne__',\n",
       " '__new__',\n",
       " '__reduce__',\n",
       " '__reduce_ex__',\n",
       " '__repr__',\n",
       " '__rmul__',\n",
       " '__setattr__',\n",
       " '__sizeof__',\n",
       " '__str__',\n",
       " '__subclasshook__',\n",
       " 'count',\n",
       " 'index']"
      ]
     },
     "execution_count": 19,
     "metadata": {},
     "output_type": "execute_result"
    }
   ],
   "source": [
    "dir(tp)"
   ]
  },
  {
   "cell_type": "code",
   "execution_count": 24,
   "id": "261c48ff",
   "metadata": {
    "scrolled": true
   },
   "outputs": [
    {
     "name": "stdout",
     "output_type": "stream",
     "text": [
      "1\n",
      "2\n",
      "3\n",
      "4\n",
      "5\n",
      "6\n",
      "7\n",
      "8\n",
      "9\n",
      "10\n"
     ]
    }
   ],
   "source": [
    "def get_naturalNum(num):\n",
    "    for i in range(1,num+1):\n",
    "        print(i)\n",
    "        \n",
    "get_naturalNum(10)"
   ]
  },
  {
   "cell_type": "code",
   "execution_count": 27,
   "id": "bcf03434",
   "metadata": {},
   "outputs": [],
   "source": [
    "# lambda functions\n",
    "\n",
    "x = lambda x: x**2"
   ]
  },
  {
   "cell_type": "code",
   "execution_count": 28,
   "id": "1bab97cb",
   "metadata": {},
   "outputs": [
    {
     "data": {
      "text/plain": [
       "10000"
      ]
     },
     "execution_count": 28,
     "metadata": {},
     "output_type": "execute_result"
    }
   ],
   "source": [
    "x(100)"
   ]
  },
  {
   "cell_type": "code",
   "execution_count": 30,
   "id": "7fe51e50",
   "metadata": {},
   "outputs": [
    {
     "data": {
      "text/plain": [
       "[4, 9, 16, 25, 36]"
      ]
     },
     "execution_count": 30,
     "metadata": {},
     "output_type": "execute_result"
    }
   ],
   "source": [
    "list(map(x, (2,3,4,5,6)))"
   ]
  },
  {
   "cell_type": "code",
   "execution_count": 33,
   "id": "2ede93d2",
   "metadata": {
    "scrolled": true
   },
   "outputs": [
    {
     "data": {
      "text/plain": [
       "['PYTHON', 'IS', 'FUN']"
      ]
     },
     "execution_count": 33,
     "metadata": {},
     "output_type": "execute_result"
    }
   ],
   "source": [
    "list(map(str.upper, ['python', 'is', 'fun']))"
   ]
  },
  {
   "cell_type": "code",
   "execution_count": 39,
   "id": "08b7acf0",
   "metadata": {},
   "outputs": [],
   "source": [
    "# passing function as an argument\n",
    "\n",
    "def outer(f):\n",
    "    def inner():\n",
    "        result = f()\n",
    "        return result ** 2\n",
    "    return inner"
   ]
  },
  {
   "cell_type": "code",
   "execution_count": 35,
   "id": "15616448",
   "metadata": {},
   "outputs": [],
   "source": [
    "def num():\n",
    "    return 5"
   ]
  },
  {
   "cell_type": "code",
   "execution_count": 36,
   "id": "539cb495",
   "metadata": {},
   "outputs": [],
   "source": [
    "r = outer(num)"
   ]
  },
  {
   "cell_type": "code",
   "execution_count": 37,
   "id": "bc54fba2",
   "metadata": {},
   "outputs": [
    {
     "data": {
      "text/plain": [
       "<function __main__.outer.<locals>.inner()>"
      ]
     },
     "execution_count": 37,
     "metadata": {},
     "output_type": "execute_result"
    }
   ],
   "source": [
    "r"
   ]
  },
  {
   "cell_type": "code",
   "execution_count": 40,
   "id": "1f426594",
   "metadata": {},
   "outputs": [
    {
     "data": {
      "text/plain": [
       "25"
      ]
     },
     "execution_count": 40,
     "metadata": {},
     "output_type": "execute_result"
    }
   ],
   "source": [
    "r()"
   ]
  },
  {
   "cell_type": "code",
   "execution_count": 41,
   "id": "4b312b90",
   "metadata": {},
   "outputs": [],
   "source": [
    "@outer\n",
    "def num():\n",
    "    return 5"
   ]
  },
  {
   "cell_type": "code",
   "execution_count": 42,
   "id": "02707493",
   "metadata": {},
   "outputs": [
    {
     "data": {
      "text/plain": [
       "25"
      ]
     },
     "execution_count": 42,
     "metadata": {},
     "output_type": "execute_result"
    }
   ],
   "source": [
    "num()"
   ]
  },
  {
   "cell_type": "code",
   "execution_count": 5,
   "id": "57bfa23a",
   "metadata": {},
   "outputs": [],
   "source": [
    "list_1 = [1,2,3,4,5,6,7,8,9,10]"
   ]
  },
  {
   "cell_type": "code",
   "execution_count": 6,
   "id": "12687175",
   "metadata": {},
   "outputs": [
    {
     "data": {
      "text/plain": [
       "[2, 4, 6, 8, 10]"
      ]
     },
     "execution_count": 6,
     "metadata": {},
     "output_type": "execute_result"
    }
   ],
   "source": [
    "list(filter(lambda x: x%2 == 0, list_1))"
   ]
  },
  {
   "cell_type": "code",
   "execution_count": 7,
   "id": "09e6ac51",
   "metadata": {},
   "outputs": [
    {
     "data": {
      "text/plain": [
       "[1, 8, 27, 64, 125, 216, 343, 512, 729, 1000]"
      ]
     },
     "execution_count": 7,
     "metadata": {},
     "output_type": "execute_result"
    }
   ],
   "source": [
    "list(map(lambda x: pow(x,3), list_1))"
   ]
  },
  {
   "cell_type": "code",
   "execution_count": 15,
   "id": "3ddd202f",
   "metadata": {},
   "outputs": [],
   "source": [
    "# general purpose decorators\n",
    "\n",
    "def a_decorator_passing_arbitary_arguments(function_to_decorator):\n",
    "    \n",
    "    def a_wrapper_accepting_arbitary_arguments(*args, **kwargs):\n",
    "        print(\"The positional arguments are:\", args)\n",
    "        print(\"The keyword arguments are:\", kwargs)\n",
    "        function_to_decorator(*args)\n",
    "        \n",
    "    return a_wrapper_accepting_arbitary_arguments\n",
    "\n",
    "\n",
    "@a_decorator_passing_arbitary_arguments\n",
    "def function_with_no_arguments():\n",
    "    print(\"No arguments here...\")"
   ]
  },
  {
   "cell_type": "code",
   "execution_count": 16,
   "id": "eebfe9d9",
   "metadata": {},
   "outputs": [
    {
     "name": "stdout",
     "output_type": "stream",
     "text": [
      "The positional arguments are: ()\n",
      "The keyword arguments are: {}\n",
      "No arguments here...\n"
     ]
    }
   ],
   "source": [
    "function_with_no_arguments()"
   ]
  },
  {
   "cell_type": "code",
   "execution_count": 17,
   "id": "807d347b",
   "metadata": {},
   "outputs": [],
   "source": [
    "#passing positional arguments to the decorator\n",
    "\n",
    "def accept_the_arguments(function_to_decorator):\n",
    "    def inner_function(*args, **kwargs):\n",
    "        print(\"The positional arguments are:\", args)\n",
    "        print(\"The keyword arguments are:\", kwargs)\n",
    "        function_to_decorator(*args)\n",
    "        \n",
    "    return inner_function\n",
    "\n",
    "\n",
    "@accept_the_arguments\n",
    "def function_with_arguments(a, b, c):\n",
    "    print(a, b, c)"
   ]
  },
  {
   "cell_type": "code",
   "execution_count": 18,
   "id": "72027eb9",
   "metadata": {},
   "outputs": [
    {
     "name": "stdout",
     "output_type": "stream",
     "text": [
      "The positional arguments are: (10, 20, 30)\n",
      "The keyword arguments are: {}\n",
      "10 20 30\n"
     ]
    }
   ],
   "source": [
    "function_with_arguments(10, 20, 30)"
   ]
  },
  {
   "cell_type": "code",
   "execution_count": 25,
   "id": "de803fef",
   "metadata": {},
   "outputs": [],
   "source": [
    "#passing keyword arguments to the decorator\n",
    "\n",
    "def accept_the_keyword_arguments(function_to_decorator):\n",
    "    def inner_function(*args, **kwargs):\n",
    "        print(\"The positional arguments are:\", args)\n",
    "        print(\"The keyword arguments are:\", kwargs)\n",
    "        function_to_decorator(args, kwargs)\n",
    "        \n",
    "    return inner_function\n",
    "\n",
    "\n",
    "@accept_the_keyword_arguments\n",
    "def function_with_keyword_arguments(*args, **kwargs):\n",
    "    print(\"Insider function args:\", args)\n",
    "    print(\"Insider function kwargs:\", kwargs)"
   ]
  },
  {
   "cell_type": "code",
   "execution_count": 26,
   "id": "6b167e83",
   "metadata": {},
   "outputs": [
    {
     "name": "stdout",
     "output_type": "stream",
     "text": [
      "The positional arguments are: (1, 2, 3)\n",
      "The keyword arguments are: {'name': 'rahul', 'address': 'kolkata'}\n",
      "Insider function args: ((1, 2, 3), {'name': 'rahul', 'address': 'kolkata'})\n",
      "Insider function kwargs: {}\n"
     ]
    }
   ],
   "source": [
    "function_with_keyword_arguments(1,2,3,name=\"rahul\",address=\"kolkata\")"
   ]
  },
  {
   "cell_type": "code",
   "execution_count": 41,
   "id": "60203d2d",
   "metadata": {},
   "outputs": [],
   "source": [
    "# passing arguments to decorators\n",
    "\n",
    "def decorator_with_args(decorator_args1, decorator_args2, decorator_args3):\n",
    "    def decorator(func):\n",
    "        def wrapper(function_args1, function_args2, function_args3):\n",
    "            print(\"The wrapper can access all the variables\\n\"\n",
    "                 \"\\t from the decorator maker: {0} {1} {2}\\n\"\n",
    "                 \"\\t from the function call: {3} {4} {5}\\n\"\n",
    "                 \"and pass then into decorator function\".format(decorator_args1,\n",
    "                                                               decorator_args2,\n",
    "                                                               decorator_args3,\n",
    "                                                               function_args1,\n",
    "                                                               function_args2,\n",
    "                                                               function_args3\n",
    "                                                               ))\n",
    "            return func(function_args1, function_args2, function_args3)\n",
    "        return wrapper\n",
    "    return decorator\n",
    "\n",
    "pandas = \"Pandas\"\n",
    "@decorator_with_args(pandas, \"Numpy\", \"Sciki-learn\")\n",
    "def actual_function(function_args1, function_args2, function_args3):\n",
    "    print(\"This is decorated functions and it only knows about its args: {0}, {1}, {2}\".format(\n",
    "                                                                                           function_args1,\n",
    "                                                                                           function_args2,\n",
    "                                                                                           function_args3\n",
    "                                                                                            ))\n",
    "    "
   ]
  },
  {
   "cell_type": "code",
   "execution_count": 42,
   "id": "136ddd76",
   "metadata": {},
   "outputs": [
    {
     "name": "stdout",
     "output_type": "stream",
     "text": [
      "The wrapper can access all the variables\n",
      "\t from the decorator maker: Pandas Numpy Sciki-learn\n",
      "\t from the function call: John Science Tools\n",
      "and pass then into decorator function\n",
      "This is decorated functions and it only knows about its args: John, Science, Tools\n"
     ]
    }
   ],
   "source": [
    "actual_function(\"John\", \"Science\", \"Tools\")"
   ]
  },
  {
   "cell_type": "code",
   "execution_count": 54,
   "id": "870a95f4",
   "metadata": {},
   "outputs": [],
   "source": [
    "#changing of decorator\n",
    "\n",
    "from functools import wraps\n",
    "#code for testing decorator chain\n",
    "\n",
    "def decor1(func):\n",
    "    def inner():\n",
    "        x = func()\n",
    "        print(\"X in 2nd decor:\", x)\n",
    "        return x*x\n",
    "    return inner\n",
    "    \n",
    "    \n",
    "def decor(func):\n",
    "    def inner():\n",
    "        x = func()\n",
    "        print(\"X in 1st decor:\", x)\n",
    "        return 2*x\n",
    "    return inner\n",
    "    \n",
    "\n",
    "@decor1\n",
    "@decor\n",
    "def num():\n",
    "    return 10"
   ]
  },
  {
   "cell_type": "code",
   "execution_count": 55,
   "id": "dcab38cc",
   "metadata": {},
   "outputs": [
    {
     "name": "stdout",
     "output_type": "stream",
     "text": [
      "X in 1st decor: 10\n",
      "X in 2nd decor: 20\n"
     ]
    },
    {
     "data": {
      "text/plain": [
       "400"
      ]
     },
     "execution_count": 55,
     "metadata": {},
     "output_type": "execute_result"
    }
   ],
   "source": [
    "num()"
   ]
  },
  {
   "cell_type": "code",
   "execution_count": 58,
   "id": "7b10de9c",
   "metadata": {},
   "outputs": [],
   "source": [
    "def simple_generator():\n",
    "    print(\"h1\")\n",
    "    yield \"hello\"\n",
    "    x = 10\n",
    "    y = x + 5\n",
    "    print(y)\n",
    "    yield \"hello world\"\n",
    "    yield x"
   ]
  },
  {
   "cell_type": "raw",
   "id": "e50270b3",
   "metadata": {},
   "source": []
  },
  {
   "cell_type": "code",
   "execution_count": 69,
   "id": "47ce5472",
   "metadata": {},
   "outputs": [
    {
     "data": {
      "text/plain": [
       "<generator object simple_generator at 0x000001CC4718A4A0>"
      ]
     },
     "execution_count": 69,
     "metadata": {},
     "output_type": "execute_result"
    }
   ],
   "source": [
    "ret = simple_generator()\n",
    "ret"
   ]
  },
  {
   "cell_type": "code",
   "execution_count": 60,
   "id": "a0a8a00c",
   "metadata": {},
   "outputs": [
    {
     "name": "stdout",
     "output_type": "stream",
     "text": [
      "h1\n",
      "15\n"
     ]
    },
    {
     "data": {
      "text/plain": [
       "['hello', 'hello world', 10]"
      ]
     },
     "execution_count": 60,
     "metadata": {},
     "output_type": "execute_result"
    }
   ],
   "source": [
    "list(ret)"
   ]
  },
  {
   "cell_type": "code",
   "execution_count": 61,
   "id": "fd8255cd",
   "metadata": {},
   "outputs": [
    {
     "data": {
      "text/plain": [
       "<generator object simple_generator at 0x000001CC4718B3C0>"
      ]
     },
     "execution_count": 61,
     "metadata": {},
     "output_type": "execute_result"
    }
   ],
   "source": [
    "ret"
   ]
  },
  {
   "cell_type": "code",
   "execution_count": 70,
   "id": "dc5105bc",
   "metadata": {},
   "outputs": [
    {
     "name": "stdout",
     "output_type": "stream",
     "text": [
      "h1\n"
     ]
    },
    {
     "data": {
      "text/plain": [
       "'hello'"
      ]
     },
     "execution_count": 70,
     "metadata": {},
     "output_type": "execute_result"
    }
   ],
   "source": [
    "next(ret)          #calls the next yield"
   ]
  },
  {
   "cell_type": "code",
   "execution_count": 1,
   "id": "3671187e",
   "metadata": {},
   "outputs": [],
   "source": [
    "def fib(n):\n",
    "    first, second = 0, 1\n",
    "    while n:\n",
    "        yield first\n",
    "        first, second = second, first + second\n",
    "        n -= 1"
   ]
  },
  {
   "cell_type": "code",
   "execution_count": 2,
   "id": "e6131480",
   "metadata": {},
   "outputs": [],
   "source": [
    "ret = fib(20)"
   ]
  },
  {
   "cell_type": "code",
   "execution_count": 3,
   "id": "06b24add",
   "metadata": {},
   "outputs": [
    {
     "data": {
      "text/plain": [
       "[0,\n",
       " 1,\n",
       " 1,\n",
       " 2,\n",
       " 3,\n",
       " 5,\n",
       " 8,\n",
       " 13,\n",
       " 21,\n",
       " 34,\n",
       " 55,\n",
       " 89,\n",
       " 144,\n",
       " 233,\n",
       " 377,\n",
       " 610,\n",
       " 987,\n",
       " 1597,\n",
       " 2584,\n",
       " 4181]"
      ]
     },
     "execution_count": 3,
     "metadata": {},
     "output_type": "execute_result"
    }
   ],
   "source": [
    "list(ret)"
   ]
  },
  {
   "cell_type": "code",
   "execution_count": null,
   "id": "6e269070",
   "metadata": {},
   "outputs": [],
   "source": []
  }
 ],
 "metadata": {
  "kernelspec": {
   "display_name": "Python 3",
   "language": "python",
   "name": "python3"
  },
  "language_info": {
   "codemirror_mode": {
    "name": "ipython",
    "version": 3
   },
   "file_extension": ".py",
   "mimetype": "text/x-python",
   "name": "python",
   "nbconvert_exporter": "python",
   "pygments_lexer": "ipython3",
   "version": "3.8.8"
  }
 },
 "nbformat": 4,
 "nbformat_minor": 5
}
