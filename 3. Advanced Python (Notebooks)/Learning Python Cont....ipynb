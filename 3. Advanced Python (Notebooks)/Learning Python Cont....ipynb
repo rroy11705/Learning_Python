{
 "cells": [
  {
   "cell_type": "code",
   "execution_count": 3,
   "id": "5b00c379",
   "metadata": {},
   "outputs": [
    {
     "name": "stdout",
     "output_type": "stream",
     "text": [
      "('a', 'b', 'c')\n",
      "('a', 'c', 'b')\n",
      "('b', 'a', 'c')\n",
      "('b', 'c', 'a')\n",
      "('c', 'a', 'b')\n",
      "('c', 'b', 'a')\n"
     ]
    }
   ],
   "source": [
    "#assign ment to calculate permutation and combination of below list\n",
    "from itertools import permutations\n",
    "\n",
    "items = ['a', 'b', 'c']\n",
    "for p in permutations(items):\n",
    "    print(p)"
   ]
  },
  {
   "cell_type": "code",
   "execution_count": 4,
   "id": "ac9f5ecd",
   "metadata": {},
   "outputs": [
    {
     "name": "stdout",
     "output_type": "stream",
     "text": [
      "('a', 'b')\n",
      "('a', 'c')\n",
      "('b', 'c')\n"
     ]
    }
   ],
   "source": [
    "from itertools import combinations\n",
    "\n",
    "items = ['a', 'b', 'c']\n",
    "for p in combinations(items, 2):\n",
    "    print(p)"
   ]
  },
  {
   "cell_type": "code",
   "execution_count": 5,
   "id": "67cc94c3",
   "metadata": {},
   "outputs": [
    {
     "name": "stdout",
     "output_type": "stream",
     "text": [
      "('a',)\n",
      "('b',)\n",
      "('c',)\n"
     ]
    }
   ],
   "source": [
    "from itertools import combinations\n",
    "\n",
    "items = ['a', 'b', 'c']\n",
    "for p in combinations(items, 1):\n",
    "    print(p)"
   ]
  },
  {
   "cell_type": "code",
   "execution_count": 6,
   "id": "9baeec6b",
   "metadata": {},
   "outputs": [],
   "source": [
    "def fib(n):\n",
    "    first, second = 0, 1\n",
    "    while n:\n",
    "        yield first\n",
    "        first, second = second, first + second\n",
    "        n -= 1"
   ]
  },
  {
   "cell_type": "code",
   "execution_count": 8,
   "id": "511bd6a9",
   "metadata": {},
   "outputs": [],
   "source": [
    "ret = fib(20)"
   ]
  },
  {
   "cell_type": "code",
   "execution_count": 10,
   "id": "d4ce02f5",
   "metadata": {},
   "outputs": [
    {
     "data": {
      "text/plain": [
       "[0,\n",
       " 1,\n",
       " 1,\n",
       " 2,\n",
       " 3,\n",
       " 5,\n",
       " 8,\n",
       " 13,\n",
       " 21,\n",
       " 34,\n",
       " 55,\n",
       " 89,\n",
       " 144,\n",
       " 233,\n",
       " 377,\n",
       " 610,\n",
       " 987,\n",
       " 1597,\n",
       " 2584,\n",
       " 4181]"
      ]
     },
     "execution_count": 10,
     "metadata": {},
     "output_type": "execute_result"
    }
   ],
   "source": [
    "list(ret)"
   ]
  },
  {
   "cell_type": "code",
   "execution_count": 18,
   "id": "f8cecf18",
   "metadata": {},
   "outputs": [],
   "source": [
    "import random\n",
    "\n",
    "name = ['Rahul', 'Bhaskar', 'Aritra', 'Souvik', 'Rakesh']\n",
    "designation = ['Tester', 'DevOps', 'Front End', 'Back End', 'Full Stack']\n",
    "\n",
    "def people_generator():\n",
    "    for i in range(1000000):\n",
    "        person = {\n",
    "            'id': i,\n",
    "            'name': random.choice(name),\n",
    "            'designation': random.choice(designation)\n",
    "        }\n",
    "        yield person\n",
    "     \n",
    "    \n",
    "def people_list():\n",
    "    people_list = []\n",
    "    for i in range(1000000):\n",
    "        person = {\n",
    "            'id': i,\n",
    "            'name': random.choice(name),\n",
    "            'designation': random.choice(designation)\n",
    "        }\n",
    "        people_list.append(person)\n",
    "    return people_list\n",
    "        "
   ]
  },
  {
   "cell_type": "code",
   "execution_count": 19,
   "id": "40e96c5a",
   "metadata": {},
   "outputs": [],
   "source": [
    "import sys"
   ]
  },
  {
   "cell_type": "code",
   "execution_count": 21,
   "id": "ca87ddb9",
   "metadata": {},
   "outputs": [
    {
     "data": {
      "text/plain": [
       "112"
      ]
     },
     "execution_count": 21,
     "metadata": {},
     "output_type": "execute_result"
    }
   ],
   "source": [
    "pg = people_generator()\n",
    "sys.getsizeof(pg)"
   ]
  },
  {
   "cell_type": "code",
   "execution_count": 23,
   "id": "e38688b3",
   "metadata": {},
   "outputs": [
    {
     "data": {
      "text/plain": [
       "8697456"
      ]
     },
     "execution_count": 23,
     "metadata": {},
     "output_type": "execute_result"
    }
   ],
   "source": [
    "pl = people_list()\n",
    "sys.getsizeof(pl)"
   ]
  },
  {
   "cell_type": "code",
   "execution_count": 1,
   "id": "957931ae",
   "metadata": {},
   "outputs": [],
   "source": [
    "# custome f range function\n",
    "\n",
    "def frange(start, stop, increment):\n",
    "    x = start\n",
    "    while x < stop:\n",
    "        yield x\n",
    "        x += increment\n",
    "        "
   ]
  },
  {
   "cell_type": "code",
   "execution_count": 8,
   "id": "cbfe314b",
   "metadata": {},
   "outputs": [
    {
     "data": {
      "text/plain": [
       "112"
      ]
     },
     "execution_count": 8,
     "metadata": {},
     "output_type": "execute_result"
    }
   ],
   "source": [
    "ret = frange(0, 10000, 0.5)\n",
    "import sys\n",
    "sys.getsizeof(ret)"
   ]
  },
  {
   "cell_type": "code",
   "execution_count": 6,
   "id": "f6bca88a",
   "metadata": {},
   "outputs": [
    {
     "data": {
      "text/plain": [
       "178016"
      ]
     },
     "execution_count": 6,
     "metadata": {},
     "output_type": "execute_result"
    }
   ],
   "source": [
    "sys.getsizeof([x for x in range(0, 20000)])"
   ]
  },
  {
   "cell_type": "code",
   "execution_count": 15,
   "id": "c9d77f54",
   "metadata": {},
   "outputs": [
    {
     "name": "stdout",
     "output_type": "stream",
     "text": [
      "1. Rahul\n",
      "2. Bhaskar\n",
      "3. Aritra\n",
      "4. Souvik\n",
      "5. Rakesh\n"
     ]
    }
   ],
   "source": [
    "# enumerate to track index and value\n",
    "\n",
    "names = ['Rahul', 'Bhaskar', 'Aritra', 'Souvik', 'Rakesh']\n",
    "\n",
    "for index, name in enumerate(names):\n",
    "    print(f\"{index + 1}.\", name)\n",
    "\n"
   ]
  },
  {
   "cell_type": "code",
   "execution_count": 19,
   "id": "187fc369",
   "metadata": {},
   "outputs": [
    {
     "name": "stdout",
     "output_type": "stream",
     "text": [
      "{101: 'Rahul', 102: 'Bhaskar', 103: 'Aritra', 104: 'Souvik', 105: 'Rakesh'}\n"
     ]
    }
   ],
   "source": [
    "# Zip iterator\n",
    "\n",
    "names = ['Rahul', 'Bhaskar', 'Aritra', 'Souvik', 'Rakesh']\n",
    "zips = [101, 102, 103, 104, 105]\n",
    "d = {}\n",
    "\n",
    "for i, j in zip(zips, names):\n",
    "    d[i] = j\n",
    "    \n",
    "print(d)"
   ]
  },
  {
   "cell_type": "code",
   "execution_count": 20,
   "id": "6344ceb0",
   "metadata": {},
   "outputs": [
    {
     "name": "stdout",
     "output_type": "stream",
     "text": [
      "{101: 'Rahul', 102: 'Bhaskar', 103: 'Aritra', 104: 'Souvik', 105: 'Rakesh', 106: None, 107: None}\n"
     ]
    }
   ],
   "source": [
    "# Zip longest iterator\n",
    "from itertools import zip_longest\n",
    "\n",
    "names = ['Rahul', 'Bhaskar', 'Aritra', 'Souvik', 'Rakesh']\n",
    "zips = [101, 102, 103, 104, 105, 106, 107]\n",
    "d = {}\n",
    "\n",
    "for i, j in zip_longest(zips, names):\n",
    "    d[i] = j\n",
    "    \n",
    "print(d)"
   ]
  },
  {
   "cell_type": "code",
   "execution_count": 25,
   "id": "6c59fd3b",
   "metadata": {},
   "outputs": [
    {
     "name": "stdout",
     "output_type": "stream",
     "text": [
      "(1, 'w', 10)\n",
      "(2, 'x', 20)\n",
      "(3, 'y', 30)\n"
     ]
    }
   ],
   "source": [
    "a = [1, 2, 3]\n",
    "b = ['w', 'x', 'y']\n",
    "c = [10, 20, 30]\n",
    "\n",
    "for i in zip(a, b, c):\n",
    "    print(i)"
   ]
  },
  {
   "cell_type": "code",
   "execution_count": 29,
   "id": "b19b57c2",
   "metadata": {},
   "outputs": [
    {
     "name": "stdout",
     "output_type": "stream",
     "text": [
      "1\n",
      "2\n",
      "3\n",
      "w\n",
      "x\n",
      "y\n",
      "10\n",
      "20\n",
      "30\n"
     ]
    }
   ],
   "source": [
    "from itertools import chain\n",
    "\n",
    "for x in chain(a, b, c):\n",
    "    print(x)"
   ]
  },
  {
   "cell_type": "code",
   "execution_count": 32,
   "id": "6752efff",
   "metadata": {},
   "outputs": [],
   "source": [
    "from collections import Iterable\n",
    "\n",
    "def flatten(items, ignore_types=(str, bytes)):\n",
    "    for x in items:\n",
    "        if isinstance(x, Iterable) and not isinstance(x, ignore_types):\n",
    "            yield from flatten(x)\n",
    "        else:\n",
    "            yield x"
   ]
  },
  {
   "cell_type": "markdown",
   "id": "6af19583",
   "metadata": {},
   "source": [
    "items = [1, 2, [3, 4, [5, 6], 7], 8]\n",
    "\n",
    "for x in flatten(items):\n",
    "    print(x)"
   ]
  },
  {
   "cell_type": "code",
   "execution_count": 33,
   "id": "def00572",
   "metadata": {},
   "outputs": [
    {
     "name": "stdout",
     "output_type": "stream",
     "text": [
      "1\n",
      "2\n",
      "3\n",
      "4\n",
      "5\n",
      "6\n",
      "7\n",
      "8\n"
     ]
    }
   ],
   "source": [
    "items = [1, 2, [3, 4, [5, 6], 7], 8]\n",
    "\n",
    "for x in flatten(items): print(x)"
   ]
  },
  {
   "cell_type": "code",
   "execution_count": null,
   "id": "acf8e2d6",
   "metadata": {},
   "outputs": [],
   "source": []
  }
 ],
 "metadata": {
  "kernelspec": {
   "display_name": "Python 3",
   "language": "python",
   "name": "python3"
  },
  "language_info": {
   "codemirror_mode": {
    "name": "ipython",
    "version": 3
   },
   "file_extension": ".py",
   "mimetype": "text/x-python",
   "name": "python",
   "nbconvert_exporter": "python",
   "pygments_lexer": "ipython3",
   "version": "3.8.8"
  }
 },
 "nbformat": 4,
 "nbformat_minor": 5
}
