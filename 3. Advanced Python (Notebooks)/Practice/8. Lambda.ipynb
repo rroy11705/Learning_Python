{
 "cells": [
  {
   "cell_type": "code",
   "execution_count": 1,
   "id": "5b1247d4",
   "metadata": {},
   "outputs": [],
   "source": [
    "# lambda argument: expression"
   ]
  },
  {
   "cell_type": "code",
   "execution_count": 2,
   "id": "29137499",
   "metadata": {},
   "outputs": [],
   "source": [
    "add10 = lambda x: x + 10"
   ]
  },
  {
   "cell_type": "code",
   "execution_count": 3,
   "id": "43a543c8",
   "metadata": {},
   "outputs": [
    {
     "data": {
      "text/plain": [
       "15"
      ]
     },
     "execution_count": 3,
     "metadata": {},
     "output_type": "execute_result"
    }
   ],
   "source": [
    "add10(5)"
   ]
  },
  {
   "cell_type": "code",
   "execution_count": 3,
   "id": "6ade13e9",
   "metadata": {},
   "outputs": [],
   "source": [
    "print2D = [(1,2), (15,1), (5,-1), (10,4)]"
   ]
  },
  {
   "cell_type": "code",
   "execution_count": 2,
   "id": "878c60c7",
   "metadata": {},
   "outputs": [
    {
     "data": {
      "text/plain": [
       "[(1, 2), (5, -1), (10, 4), (15, 1)]"
      ]
     },
     "execution_count": 2,
     "metadata": {},
     "output_type": "execute_result"
    }
   ],
   "source": [
    "print2D_sorted = sorted(print2D)\n",
    "print2D_sorted"
   ]
  },
  {
   "cell_type": "code",
   "execution_count": 4,
   "id": "b483a6f0",
   "metadata": {},
   "outputs": [
    {
     "data": {
      "text/plain": [
       "[(5, -1), (15, 1), (1, 2), (10, 4)]"
      ]
     },
     "execution_count": 4,
     "metadata": {},
     "output_type": "execute_result"
    }
   ],
   "source": [
    "print2D_sorted = sorted(print2D, key=lambda x: x[1])\n",
    "print2D_sorted"
   ]
  },
  {
   "cell_type": "code",
   "execution_count": 5,
   "id": "fd406133",
   "metadata": {},
   "outputs": [
    {
     "data": {
      "text/plain": [
       "[(1, 2), (5, -1), (10, 4), (15, 1)]"
      ]
     },
     "execution_count": 5,
     "metadata": {},
     "output_type": "execute_result"
    }
   ],
   "source": [
    "print2D_sorted = sorted(print2D, key=lambda x: x[0] + x[1])\n",
    "print2D_sorted"
   ]
  },
  {
   "cell_type": "code",
   "execution_count": null,
   "id": "6e8adcbe",
   "metadata": {},
   "outputs": [],
   "source": [
    "# map(func, seq)"
   ]
  },
  {
   "cell_type": "code",
   "execution_count": 6,
   "id": "afdf508a",
   "metadata": {},
   "outputs": [],
   "source": [
    "a = [1,2,3,4,5]\n",
    "b = map(lambda x: x*2, a)"
   ]
  },
  {
   "cell_type": "code",
   "execution_count": 7,
   "id": "8418c060",
   "metadata": {},
   "outputs": [
    {
     "data": {
      "text/plain": [
       "[2, 4, 6, 8, 10]"
      ]
     },
     "execution_count": 7,
     "metadata": {},
     "output_type": "execute_result"
    }
   ],
   "source": [
    "list(b)"
   ]
  },
  {
   "cell_type": "code",
   "execution_count": 8,
   "id": "029eaa04",
   "metadata": {},
   "outputs": [],
   "source": [
    "# filter(func [true/false], seq)"
   ]
  },
  {
   "cell_type": "code",
   "execution_count": 9,
   "id": "fe038f18",
   "metadata": {},
   "outputs": [],
   "source": [
    "a = [1,2,3,4,5,6]\n",
    "b = filter(lambda x: x%2 == 0, a)"
   ]
  },
  {
   "cell_type": "code",
   "execution_count": 10,
   "id": "b7e45611",
   "metadata": {},
   "outputs": [
    {
     "data": {
      "text/plain": [
       "[2, 4, 6]"
      ]
     },
     "execution_count": 10,
     "metadata": {},
     "output_type": "execute_result"
    }
   ],
   "source": [
    "list(b)"
   ]
  },
  {
   "cell_type": "code",
   "execution_count": 11,
   "id": "00328633",
   "metadata": {},
   "outputs": [],
   "source": [
    "# reduce(func, seq)"
   ]
  },
  {
   "cell_type": "code",
   "execution_count": 12,
   "id": "6fd6c95b",
   "metadata": {},
   "outputs": [],
   "source": [
    "from functools import reduce\n",
    "\n",
    "a = [1,2,3,4,5,6]\n",
    "product_a = reduce(lambda x,y: x * y, a)"
   ]
  },
  {
   "cell_type": "code",
   "execution_count": 13,
   "id": "7f6c4302",
   "metadata": {},
   "outputs": [
    {
     "data": {
      "text/plain": [
       "720"
      ]
     },
     "execution_count": 13,
     "metadata": {},
     "output_type": "execute_result"
    }
   ],
   "source": [
    "product_a"
   ]
  },
  {
   "cell_type": "code",
   "execution_count": null,
   "id": "93112bd0",
   "metadata": {},
   "outputs": [],
   "source": []
  }
 ],
 "metadata": {
  "kernelspec": {
   "display_name": "Python 3",
   "language": "python",
   "name": "python3"
  },
  "language_info": {
   "codemirror_mode": {
    "name": "ipython",
    "version": 3
   },
   "file_extension": ".py",
   "mimetype": "text/x-python",
   "name": "python",
   "nbconvert_exporter": "python",
   "pygments_lexer": "ipython3",
   "version": "3.8.8"
  }
 },
 "nbformat": 4,
 "nbformat_minor": 5
}
