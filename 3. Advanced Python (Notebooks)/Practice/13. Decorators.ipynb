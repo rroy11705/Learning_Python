{
 "cells": [
  {
   "cell_type": "code",
   "execution_count": 2,
   "id": "3c616de0",
   "metadata": {},
   "outputs": [],
   "source": [
    "def start_end_decorator(func):\n",
    "    def wrapper():\n",
    "        print(\"start\")\n",
    "        func()\n",
    "        print(\"end\")\n",
    "    return wrapper"
   ]
  },
  {
   "cell_type": "code",
   "execution_count": 3,
   "id": "5091f618",
   "metadata": {},
   "outputs": [],
   "source": [
    "def print_name():\n",
    "    print('Rahul')"
   ]
  },
  {
   "cell_type": "code",
   "execution_count": 4,
   "id": "73b799f7",
   "metadata": {},
   "outputs": [],
   "source": [
    "print_name = start_end_decorator(print_name)"
   ]
  },
  {
   "cell_type": "code",
   "execution_count": 11,
   "id": "addf4d4a",
   "metadata": {},
   "outputs": [
    {
     "name": "stdout",
     "output_type": "stream",
     "text": [
      "start\n",
      "Rahul\n",
      "end\n"
     ]
    }
   ],
   "source": [
    "print_name()"
   ]
  },
  {
   "cell_type": "code",
   "execution_count": 6,
   "id": "5cb287a7",
   "metadata": {},
   "outputs": [],
   "source": [
    "@start_end_decorator\n",
    "def print_name():\n",
    "    print('Rahul')"
   ]
  },
  {
   "cell_type": "code",
   "execution_count": 7,
   "id": "e9767022",
   "metadata": {},
   "outputs": [
    {
     "name": "stdout",
     "output_type": "stream",
     "text": [
      "start\n",
      "Rahul\n",
      "end\n"
     ]
    }
   ],
   "source": [
    "print_name()"
   ]
  },
  {
   "cell_type": "code",
   "execution_count": 12,
   "id": "b624d9ae",
   "metadata": {},
   "outputs": [
    {
     "name": "stdout",
     "output_type": "stream",
     "text": [
      "Start\n",
      "End\n",
      "None\n"
     ]
    }
   ],
   "source": [
    "def start_end_decorator_2(func):\n",
    "    \n",
    "    def wrapper(*args, **kwargs):\n",
    "        print('Start')\n",
    "        func(*args, **kwargs)\n",
    "        print('End')\n",
    "    return wrapper\n",
    "\n",
    "@start_end_decorator_2\n",
    "def add_5(x):\n",
    "    return x + 5\n",
    "\n",
    "result = add_5(10)\n",
    "print(result)"
   ]
  },
  {
   "cell_type": "code",
   "execution_count": 13,
   "id": "592ec595",
   "metadata": {},
   "outputs": [
    {
     "name": "stdout",
     "output_type": "stream",
     "text": [
      "Start\n",
      "End\n",
      "15\n"
     ]
    }
   ],
   "source": [
    "def start_end_decorator_3(func):\n",
    "    \n",
    "    def wrapper(*args, **kwargs):\n",
    "        print('Start')\n",
    "        result = func(*args, **kwargs)\n",
    "        print('End')\n",
    "        return result\n",
    "    return wrapper\n",
    "\n",
    "@start_end_decorator_3\n",
    "def add_5(x):\n",
    "    return x + 5\n",
    "\n",
    "result = add_5(10)\n",
    "print(result)"
   ]
  },
  {
   "cell_type": "code",
   "execution_count": 14,
   "id": "a1ccc901",
   "metadata": {},
   "outputs": [
    {
     "name": "stdout",
     "output_type": "stream",
     "text": [
      "Start\n",
      "End\n",
      "15\n",
      "add_5\n",
      "Help on function add_5 in module __main__:\n",
      "\n",
      "add_5(x)\n",
      "\n"
     ]
    }
   ],
   "source": [
    "import functools\n",
    "def start_end_decorator_4(func):\n",
    "    \n",
    "    @functools.wraps(func)\n",
    "    def wrapper(*args, **kwargs):\n",
    "        print('Start')\n",
    "        result = func(*args, **kwargs)\n",
    "        print('End')\n",
    "        return result\n",
    "    return wrapper\n",
    "\n",
    "@start_end_decorator_4\n",
    "def add_5(x):\n",
    "    return x + 5\n",
    "\n",
    "result = add_5(10)\n",
    "print(result)\n",
    "print(add_5.__name__)\n",
    "help(add_5)"
   ]
  },
  {
   "cell_type": "code",
   "execution_count": 15,
   "id": "bff8a610",
   "metadata": {},
   "outputs": [],
   "source": [
    "# Template for a decorator\n",
    "\n",
    "import functools\n",
    "\n",
    "def my_decorator(func):\n",
    "    @functools.wraps(func)\n",
    "    def wrapper(*args, **kwargs):\n",
    "        # Do something before\n",
    "        result = func(*args, **kwargs)\n",
    "        # Do something after\n",
    "        return result\n",
    "    return wrapper"
   ]
  },
  {
   "cell_type": "code",
   "execution_count": 16,
   "id": "d18c6b0b",
   "metadata": {},
   "outputs": [
    {
     "name": "stdout",
     "output_type": "stream",
     "text": [
      "Hello Rahul\n",
      "Hello Rahul\n",
      "Hello Rahul\n"
     ]
    }
   ],
   "source": [
    "def repeat(num_times):\n",
    "    def decorator_repeat(func):\n",
    "        @functools.wraps(func)\n",
    "        def wrapper(*args, **kwargs):\n",
    "            for _ in range(num_times):\n",
    "                result = func(*args, **kwargs)\n",
    "            return result\n",
    "        return wrapper\n",
    "    return decorator_repeat\n",
    "\n",
    "@repeat(num_times=3)\n",
    "def greet(name):\n",
    "    print(f\"Hello {name}\")\n",
    "    \n",
    "greet('Rahul')"
   ]
  },
  {
   "cell_type": "code",
   "execution_count": 18,
   "id": "9c522800",
   "metadata": {},
   "outputs": [
    {
     "name": "stdout",
     "output_type": "stream",
     "text": [
      "Calling say_hello(name='Rahul')\n",
      "Start\n",
      "Hello Rahul\n",
      "End\n",
      "'say_hello' returned 'Hello Rahul'\n"
     ]
    },
    {
     "data": {
      "text/plain": [
       "'Hello Rahul'"
      ]
     },
     "execution_count": 18,
     "metadata": {},
     "output_type": "execute_result"
    }
   ],
   "source": [
    "def debug(func):\n",
    "    @functools.wraps(func)\n",
    "    def wrapper(*args, **kwargs):\n",
    "        args_repr = [repr(a) for a in args]\n",
    "        kwargs_repr = [f\"{k}={v!r}\" for k, v in kwargs.items()]\n",
    "        signature = \", \".join(args_repr + kwargs_repr)\n",
    "        print(f\"Calling {func.__name__}({signature})\")\n",
    "        result = func(*args, **kwargs)\n",
    "        print(f\"{func.__name__!r} returned {result!r}\")\n",
    "        return result\n",
    "    return wrapper\n",
    "\n",
    "@debug\n",
    "@start_end_decorator_4\n",
    "def say_hello(name):\n",
    "    greeting = f'Hello {name}'\n",
    "    print(greeting)\n",
    "    return greeting\n",
    "\n",
    "# now `debug` is executed first and calls `@start_end_decorator_4`, which then calls `say_hello`\n",
    "say_hello(name='Rahul')"
   ]
  },
  {
   "cell_type": "code",
   "execution_count": 21,
   "id": "3e40f255",
   "metadata": {},
   "outputs": [
    {
     "name": "stdout",
     "output_type": "stream",
     "text": [
      "Call 1 of 'say_hello'\n",
      "Hello Rahul!\n",
      "Call 2 of 'say_hello'\n",
      "Hello Rajesh!\n"
     ]
    }
   ],
   "source": [
    "import functools\n",
    "\n",
    "class CountCalls:\n",
    "    # the init needs to have the func as argument and stores it\n",
    "    def __init__(self, func):\n",
    "        functools.update_wrapper(self, func)\n",
    "        self.func = func\n",
    "        self.num_calls = 0\n",
    "    \n",
    "    # extend functionality, execute function, and return the result\n",
    "    def __call__(self, *args, **kwargs):\n",
    "        self.num_calls += 1\n",
    "        print(f\"Call {self.num_calls} of {self.func.__name__!r}\")\n",
    "        return self.func(*args, **kwargs)\n",
    "\n",
    "@CountCalls\n",
    "def say_hello(name):\n",
    "    print(f\"Hello {name}!\")\n",
    "    \n",
    "say_hello('Rahul')\n",
    "say_hello('Rajesh')"
   ]
  },
  {
   "cell_type": "code",
   "execution_count": null,
   "id": "42ea70b7",
   "metadata": {},
   "outputs": [],
   "source": []
  }
 ],
 "metadata": {
  "kernelspec": {
   "display_name": "Python 3",
   "language": "python",
   "name": "python3"
  },
  "language_info": {
   "codemirror_mode": {
    "name": "ipython",
    "version": 3
   },
   "file_extension": ".py",
   "mimetype": "text/x-python",
   "name": "python",
   "nbconvert_exporter": "python",
   "pygments_lexer": "ipython3",
   "version": "3.8.8"
  }
 },
 "nbformat": 4,
 "nbformat_minor": 5
}
