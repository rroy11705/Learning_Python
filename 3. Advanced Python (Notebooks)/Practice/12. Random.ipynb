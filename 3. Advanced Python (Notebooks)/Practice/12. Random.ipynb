{
 "cells": [
  {
   "cell_type": "code",
   "execution_count": 1,
   "id": "99fa45db",
   "metadata": {},
   "outputs": [],
   "source": [
    "# pseudo-random"
   ]
  },
  {
   "cell_type": "code",
   "execution_count": null,
   "id": "8dc55acb",
   "metadata": {},
   "outputs": [],
   "source": [
    "import random"
   ]
  },
  {
   "cell_type": "code",
   "execution_count": 4,
   "id": "cc2e54a6",
   "metadata": {},
   "outputs": [
    {
     "data": {
      "text/plain": [
       "0.8056024766987259"
      ]
     },
     "execution_count": 4,
     "metadata": {},
     "output_type": "execute_result"
    }
   ],
   "source": [
    "random.random()"
   ]
  },
  {
   "cell_type": "code",
   "execution_count": 5,
   "id": "bebd4097",
   "metadata": {},
   "outputs": [
    {
     "data": {
      "text/plain": [
       "9.59876548957021"
      ]
     },
     "execution_count": 5,
     "metadata": {},
     "output_type": "execute_result"
    }
   ],
   "source": [
    "random.uniform(1, 10)"
   ]
  },
  {
   "cell_type": "code",
   "execution_count": 8,
   "id": "34ad208b",
   "metadata": {},
   "outputs": [
    {
     "data": {
      "text/plain": [
       "4"
      ]
     },
     "execution_count": 8,
     "metadata": {},
     "output_type": "execute_result"
    }
   ],
   "source": [
    "random.randint(1, 10)                # include upper bound"
   ]
  },
  {
   "cell_type": "code",
   "execution_count": null,
   "id": "9349a2e2",
   "metadata": {},
   "outputs": [],
   "source": [
    "random.randrange(1, 10)             # donot include upper bound"
   ]
  },
  {
   "cell_type": "code",
   "execution_count": 13,
   "id": "7773ee44",
   "metadata": {},
   "outputs": [
    {
     "data": {
      "text/plain": [
       "0.949048174646109"
      ]
     },
     "execution_count": 13,
     "metadata": {},
     "output_type": "execute_result"
    }
   ],
   "source": [
    "random.normalvariate(0, 1)"
   ]
  },
  {
   "cell_type": "code",
   "execution_count": 16,
   "id": "929e8ef8",
   "metadata": {},
   "outputs": [
    {
     "data": {
      "text/plain": [
       "'H'"
      ]
     },
     "execution_count": 16,
     "metadata": {},
     "output_type": "execute_result"
    }
   ],
   "source": [
    "myList = list(\"ABCDEFGH\")"
   ]
  },
  {
   "cell_type": "code",
   "execution_count": 27,
   "id": "83d571f1",
   "metadata": {},
   "outputs": [
    {
     "data": {
      "text/plain": [
       "'H'"
      ]
     },
     "execution_count": 27,
     "metadata": {},
     "output_type": "execute_result"
    }
   ],
   "source": [
    "random.choice(myList)"
   ]
  },
  {
   "cell_type": "code",
   "execution_count": 23,
   "id": "09bbccab",
   "metadata": {},
   "outputs": [
    {
     "data": {
      "text/plain": [
       "['B', 'E', 'C']"
      ]
     },
     "execution_count": 23,
     "metadata": {},
     "output_type": "execute_result"
    }
   ],
   "source": [
    "random.sample(myList, 3)"
   ]
  },
  {
   "cell_type": "code",
   "execution_count": 32,
   "id": "ecab0085",
   "metadata": {},
   "outputs": [
    {
     "data": {
      "text/plain": [
       "['A', 'F', 'H']"
      ]
     },
     "execution_count": 32,
     "metadata": {},
     "output_type": "execute_result"
    }
   ],
   "source": [
    "random.choices(myList, k=3)"
   ]
  },
  {
   "cell_type": "code",
   "execution_count": 33,
   "id": "9a69c5fb",
   "metadata": {},
   "outputs": [],
   "source": [
    "random.shuffle(myList)"
   ]
  },
  {
   "cell_type": "code",
   "execution_count": 34,
   "id": "97ef8852",
   "metadata": {},
   "outputs": [
    {
     "data": {
      "text/plain": [
       "['H', 'G', 'D', 'E', 'A', 'B', 'F', 'C']"
      ]
     },
     "execution_count": 34,
     "metadata": {},
     "output_type": "execute_result"
    }
   ],
   "source": [
    "myList"
   ]
  },
  {
   "cell_type": "code",
   "execution_count": 38,
   "id": "7a251210",
   "metadata": {},
   "outputs": [
    {
     "name": "stdout",
     "output_type": "stream",
     "text": [
      "0.13436424411240122\n",
      "2\n",
      "0.9560342718892494\n",
      "1\n"
     ]
    }
   ],
   "source": [
    "random.seed(1)\n",
    "print(random.random())\n",
    "print(random.randint(1, 10))\n",
    "\n",
    "random.seed(2)\n",
    "print(random.random())\n",
    "print(random.randint(1, 10))"
   ]
  },
  {
   "cell_type": "code",
   "execution_count": 39,
   "id": "2d1f0331",
   "metadata": {},
   "outputs": [
    {
     "name": "stdout",
     "output_type": "stream",
     "text": [
      "0.13436424411240122\n",
      "2\n",
      "0.9560342718892494\n",
      "1\n"
     ]
    }
   ],
   "source": [
    "# proof that they are reproducable\n",
    "random.seed(1)\n",
    "print(random.random())\n",
    "print(random.randint(1, 10))\n",
    "\n",
    "random.seed(2)\n",
    "print(random.random())\n",
    "print(random.randint(1, 10))"
   ]
  },
  {
   "cell_type": "code",
   "execution_count": null,
   "id": "058a36c3",
   "metadata": {},
   "outputs": [],
   "source": []
  },
  {
   "cell_type": "code",
   "execution_count": 40,
   "id": "32d4a35d",
   "metadata": {},
   "outputs": [],
   "source": [
    "# real randoms (secrets)"
   ]
  },
  {
   "cell_type": "code",
   "execution_count": 41,
   "id": "931ff9da",
   "metadata": {},
   "outputs": [],
   "source": [
    "import secrets"
   ]
  },
  {
   "cell_type": "code",
   "execution_count": 48,
   "id": "e89ada68",
   "metadata": {},
   "outputs": [
    {
     "data": {
      "text/plain": [
       "7"
      ]
     },
     "execution_count": 48,
     "metadata": {},
     "output_type": "execute_result"
    }
   ],
   "source": [
    "secrets.randbelow(10)"
   ]
  },
  {
   "cell_type": "code",
   "execution_count": 51,
   "id": "5c4d16e7",
   "metadata": {},
   "outputs": [
    {
     "data": {
      "text/plain": [
       "2"
      ]
     },
     "execution_count": 51,
     "metadata": {},
     "output_type": "execute_result"
    }
   ],
   "source": [
    "secrets.randbits(4)"
   ]
  },
  {
   "cell_type": "code",
   "execution_count": 52,
   "id": "ac65001f",
   "metadata": {},
   "outputs": [
    {
     "data": {
      "text/plain": [
       "'A'"
      ]
     },
     "execution_count": 52,
     "metadata": {},
     "output_type": "execute_result"
    }
   ],
   "source": [
    "secrets.choice(myList)"
   ]
  },
  {
   "cell_type": "code",
   "execution_count": null,
   "id": "c3d1c27d",
   "metadata": {},
   "outputs": [],
   "source": []
  }
 ],
 "metadata": {
  "kernelspec": {
   "display_name": "Python 3",
   "language": "python",
   "name": "python3"
  },
  "language_info": {
   "codemirror_mode": {
    "name": "ipython",
    "version": 3
   },
   "file_extension": ".py",
   "mimetype": "text/x-python",
   "name": "python",
   "nbconvert_exporter": "python",
   "pygments_lexer": "ipython3",
   "version": "3.8.8"
  }
 },
 "nbformat": 4,
 "nbformat_minor": 5
}
