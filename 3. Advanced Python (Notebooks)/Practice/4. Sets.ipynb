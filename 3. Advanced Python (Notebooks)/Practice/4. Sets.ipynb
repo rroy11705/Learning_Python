{
 "cells": [
  {
   "cell_type": "code",
   "execution_count": 1,
   "id": "07ec240c",
   "metadata": {},
   "outputs": [],
   "source": [
    "#Sets: unordered, mutable, no duplicates\n",
    "\n",
    "mySet = {1, 2, 3, 3, 1}"
   ]
  },
  {
   "cell_type": "code",
   "execution_count": 2,
   "id": "0fca7870",
   "metadata": {},
   "outputs": [
    {
     "data": {
      "text/plain": [
       "{1, 2, 3}"
      ]
     },
     "execution_count": 2,
     "metadata": {},
     "output_type": "execute_result"
    }
   ],
   "source": [
    "mySet"
   ]
  },
  {
   "cell_type": "code",
   "execution_count": 3,
   "id": "bb154db4",
   "metadata": {},
   "outputs": [],
   "source": [
    "mySet = set([1, 2, 3, 4, 3, 2, 1])"
   ]
  },
  {
   "cell_type": "code",
   "execution_count": 4,
   "id": "405ca599",
   "metadata": {},
   "outputs": [
    {
     "data": {
      "text/plain": [
       "{1, 2, 3, 4}"
      ]
     },
     "execution_count": 4,
     "metadata": {},
     "output_type": "execute_result"
    }
   ],
   "source": [
    "mySet"
   ]
  },
  {
   "cell_type": "code",
   "execution_count": 8,
   "id": "3971508b",
   "metadata": {},
   "outputs": [],
   "source": [
    "charSet = set(\"mississippi\")"
   ]
  },
  {
   "cell_type": "code",
   "execution_count": 9,
   "id": "d02fbf53",
   "metadata": {},
   "outputs": [
    {
     "data": {
      "text/plain": [
       "{'i', 'm', 'p', 's'}"
      ]
     },
     "execution_count": 9,
     "metadata": {},
     "output_type": "execute_result"
    }
   ],
   "source": [
    "charSet"
   ]
  },
  {
   "cell_type": "code",
   "execution_count": 10,
   "id": "e496caa9",
   "metadata": {},
   "outputs": [
    {
     "data": {
      "text/plain": [
       "dict"
      ]
     },
     "execution_count": 10,
     "metadata": {},
     "output_type": "execute_result"
    }
   ],
   "source": [
    "mySet = {}   # is identified as an empty dict\n",
    "type(mySet)"
   ]
  },
  {
   "cell_type": "code",
   "execution_count": 11,
   "id": "1173500c",
   "metadata": {},
   "outputs": [
    {
     "data": {
      "text/plain": [
       "set"
      ]
     },
     "execution_count": 11,
     "metadata": {},
     "output_type": "execute_result"
    }
   ],
   "source": [
    "mySet = set()\n",
    "type(mySet)"
   ]
  },
  {
   "cell_type": "code",
   "execution_count": 12,
   "id": "05311e49",
   "metadata": {},
   "outputs": [],
   "source": [
    "mySet.add(1)"
   ]
  },
  {
   "cell_type": "code",
   "execution_count": 13,
   "id": "b2163d51",
   "metadata": {},
   "outputs": [],
   "source": [
    "mySet.add(2)"
   ]
  },
  {
   "cell_type": "code",
   "execution_count": 14,
   "id": "26d119c4",
   "metadata": {},
   "outputs": [],
   "source": [
    "mySet.add(3)"
   ]
  },
  {
   "cell_type": "code",
   "execution_count": 15,
   "id": "106fdc97",
   "metadata": {},
   "outputs": [
    {
     "data": {
      "text/plain": [
       "{1, 2, 3}"
      ]
     },
     "execution_count": 15,
     "metadata": {},
     "output_type": "execute_result"
    }
   ],
   "source": [
    "mySet"
   ]
  },
  {
   "cell_type": "code",
   "execution_count": 17,
   "id": "6a3ac343",
   "metadata": {},
   "outputs": [],
   "source": [
    "mySet.remove(1)             # set.removes(1) return error if 1 is not found in set\n",
    "                            # set.discard(1) will not raise error if 1 is not found in set"
   ]
  },
  {
   "cell_type": "code",
   "execution_count": 18,
   "id": "5ad82b3f",
   "metadata": {},
   "outputs": [
    {
     "data": {
      "text/plain": [
       "{2, 3}"
      ]
     },
     "execution_count": 18,
     "metadata": {},
     "output_type": "execute_result"
    }
   ],
   "source": [
    "mySet"
   ]
  },
  {
   "cell_type": "code",
   "execution_count": 19,
   "id": "4b512674",
   "metadata": {},
   "outputs": [
    {
     "data": {
      "text/plain": [
       "2"
      ]
     },
     "execution_count": 19,
     "metadata": {},
     "output_type": "execute_result"
    }
   ],
   "source": [
    "mySet.pop()"
   ]
  },
  {
   "cell_type": "code",
   "execution_count": 20,
   "id": "4ccaa463",
   "metadata": {},
   "outputs": [],
   "source": [
    "mySet.clear()"
   ]
  },
  {
   "cell_type": "code",
   "execution_count": 21,
   "id": "a7453f24",
   "metadata": {},
   "outputs": [
    {
     "data": {
      "text/plain": [
       "set()"
      ]
     },
     "execution_count": 21,
     "metadata": {},
     "output_type": "execute_result"
    }
   ],
   "source": [
    "mySet"
   ]
  },
  {
   "cell_type": "code",
   "execution_count": 22,
   "id": "a40dbc4f",
   "metadata": {},
   "outputs": [],
   "source": [
    "mySet = {1, 2, 3}"
   ]
  },
  {
   "cell_type": "code",
   "execution_count": 23,
   "id": "4069c2ae",
   "metadata": {},
   "outputs": [
    {
     "name": "stdout",
     "output_type": "stream",
     "text": [
      "yes\n"
     ]
    }
   ],
   "source": [
    "if 1 in mySet:\n",
    "    print(\"yes\")"
   ]
  },
  {
   "cell_type": "code",
   "execution_count": 24,
   "id": "5fc7e975",
   "metadata": {},
   "outputs": [
    {
     "name": "stdout",
     "output_type": "stream",
     "text": [
      "1\n",
      "2\n",
      "3\n"
     ]
    }
   ],
   "source": [
    "for i in mySet:\n",
    "    print(i)"
   ]
  },
  {
   "cell_type": "code",
   "execution_count": 25,
   "id": "5270b8da",
   "metadata": {},
   "outputs": [
    {
     "data": {
      "text/plain": [
       "{1, 2, 3, 4, 5, 6, 7, 8, 9, 10}"
      ]
     },
     "execution_count": 25,
     "metadata": {},
     "output_type": "execute_result"
    }
   ],
   "source": [
    "odd = {1,3,5,7,9}\n",
    "even = {2,4,6,8,10}\n",
    "prime = {2,5,7,11,13}\n",
    "\n",
    "u  = odd.union(even)\n",
    "u"
   ]
  },
  {
   "cell_type": "code",
   "execution_count": 26,
   "id": "c12341b5",
   "metadata": {},
   "outputs": [
    {
     "data": {
      "text/plain": [
       "{1, 3, 5, 7, 9}"
      ]
     },
     "execution_count": 26,
     "metadata": {},
     "output_type": "execute_result"
    }
   ],
   "source": [
    "odd"
   ]
  },
  {
   "cell_type": "code",
   "execution_count": 27,
   "id": "765acb8f",
   "metadata": {},
   "outputs": [
    {
     "data": {
      "text/plain": [
       "{2, 4, 6, 8, 10}"
      ]
     },
     "execution_count": 27,
     "metadata": {},
     "output_type": "execute_result"
    }
   ],
   "source": [
    "even"
   ]
  },
  {
   "cell_type": "code",
   "execution_count": 28,
   "id": "bc38aa77",
   "metadata": {},
   "outputs": [],
   "source": [
    "i = odd.intersection(even)"
   ]
  },
  {
   "cell_type": "code",
   "execution_count": 29,
   "id": "f13e10cd",
   "metadata": {},
   "outputs": [
    {
     "data": {
      "text/plain": [
       "set()"
      ]
     },
     "execution_count": 29,
     "metadata": {},
     "output_type": "execute_result"
    }
   ],
   "source": [
    "i"
   ]
  },
  {
   "cell_type": "code",
   "execution_count": 30,
   "id": "105db891",
   "metadata": {},
   "outputs": [],
   "source": [
    "i = odd.intersection(prime)"
   ]
  },
  {
   "cell_type": "code",
   "execution_count": 31,
   "id": "b4ae9769",
   "metadata": {},
   "outputs": [
    {
     "data": {
      "text/plain": [
       "{5, 7}"
      ]
     },
     "execution_count": 31,
     "metadata": {},
     "output_type": "execute_result"
    }
   ],
   "source": [
    "i"
   ]
  },
  {
   "cell_type": "code",
   "execution_count": 33,
   "id": "0fb09e2c",
   "metadata": {},
   "outputs": [
    {
     "name": "stdout",
     "output_type": "stream",
     "text": [
      "{11, 12}\n"
     ]
    }
   ],
   "source": [
    "setA = {1,2,3,4,5,6,7,8,9,10}\n",
    "setB = {1,2,3,4,10,11,12}\n",
    "\n",
    "diff = setB.difference(setA)\n",
    "print(diff)"
   ]
  },
  {
   "cell_type": "code",
   "execution_count": 36,
   "id": "c4356624",
   "metadata": {},
   "outputs": [
    {
     "name": "stdout",
     "output_type": "stream",
     "text": [
      "{5, 6, 7, 8, 9, 11, 12}\n"
     ]
    }
   ],
   "source": [
    "setA = {1,2,3,4,5,6,7,8,9,10}\n",
    "setB = {1,2,3,4,10,11,12}\n",
    "\n",
    "diff = setB.symmetric_difference(setA)  # setA ∪ setB - setA ∩ setB\n",
    "print(diff)"
   ]
  },
  {
   "cell_type": "code",
   "execution_count": 39,
   "id": "f6393520",
   "metadata": {},
   "outputs": [
    {
     "name": "stdout",
     "output_type": "stream",
     "text": [
      "{1, 2, 3, 4, 5, 6, 7, 8, 9, 10, 11, 12}\n"
     ]
    }
   ],
   "source": [
    "setA = {1,2,3,4,5,6,7,8,9,10}\n",
    "setB = {1,2,3,4,10,11,12}\n",
    "\n",
    "setA.update(setB)\n",
    "print(setA)"
   ]
  },
  {
   "cell_type": "code",
   "execution_count": 40,
   "id": "db691235",
   "metadata": {},
   "outputs": [
    {
     "name": "stdout",
     "output_type": "stream",
     "text": [
      "{1, 2, 3, 4, 10}\n"
     ]
    }
   ],
   "source": [
    "setA = {1,2,3,4,5,6,7,8,9,10}\n",
    "setB = {1,2,3,4,10,11,12}\n",
    "\n",
    "setA.intersection_update(setB)\n",
    "print(setA)"
   ]
  },
  {
   "cell_type": "code",
   "execution_count": 41,
   "id": "0fe75751",
   "metadata": {},
   "outputs": [
    {
     "name": "stdout",
     "output_type": "stream",
     "text": [
      "{5, 6, 7, 8, 9}\n"
     ]
    }
   ],
   "source": [
    "setA = {1,2,3,4,5,6,7,8,9,10}\n",
    "setB = {1,2,3,4,10,11,12}\n",
    "\n",
    "setA.difference_update(setB)\n",
    "print(setA)"
   ]
  },
  {
   "cell_type": "code",
   "execution_count": 42,
   "id": "c23eba28",
   "metadata": {},
   "outputs": [
    {
     "name": "stdout",
     "output_type": "stream",
     "text": [
      "{1, 2, 3, 4, 5, 6, 7, 8, 9, 10}\n"
     ]
    }
   ],
   "source": [
    "setA = {1,2,3,4,5,6,7,8,9,10}\n",
    "setB = {1,2,3,4,10,11,12}\n",
    "\n",
    "setA.symmetric_difference(setB)\n",
    "print(setA)"
   ]
  },
  {
   "cell_type": "code",
   "execution_count": 43,
   "id": "3df6e9dc",
   "metadata": {},
   "outputs": [
    {
     "data": {
      "text/plain": [
       "False"
      ]
     },
     "execution_count": 43,
     "metadata": {},
     "output_type": "execute_result"
    }
   ],
   "source": [
    "setA = {1,2,3,4,5,6,7,8,9,10}\n",
    "setB = {1,2,3,4,10}\n",
    "\n",
    "setA.issubset(setB)"
   ]
  },
  {
   "cell_type": "code",
   "execution_count": 44,
   "id": "4904ce2f",
   "metadata": {},
   "outputs": [
    {
     "data": {
      "text/plain": [
       "True"
      ]
     },
     "execution_count": 44,
     "metadata": {},
     "output_type": "execute_result"
    }
   ],
   "source": [
    "setA = {1,2,3,4,5,6,7,8,9,10}\n",
    "setB = {1,2,3,4,10}\n",
    "\n",
    "setB.issubset(setA)"
   ]
  },
  {
   "cell_type": "code",
   "execution_count": 45,
   "id": "1883b064",
   "metadata": {},
   "outputs": [
    {
     "data": {
      "text/plain": [
       "True"
      ]
     },
     "execution_count": 45,
     "metadata": {},
     "output_type": "execute_result"
    }
   ],
   "source": [
    "setA = {1,2,3,4,5,6,7,8,9,10}\n",
    "setB = {1,2,3,4,10}\n",
    "\n",
    "setA.issuperset(setB)"
   ]
  },
  {
   "cell_type": "code",
   "execution_count": 46,
   "id": "f2c61da4",
   "metadata": {},
   "outputs": [
    {
     "data": {
      "text/plain": [
       "False"
      ]
     },
     "execution_count": 46,
     "metadata": {},
     "output_type": "execute_result"
    }
   ],
   "source": [
    "setA = {1,2,3,4,5,6,7,8,9,10}\n",
    "setB = {1,2,3,4,10}\n",
    "\n",
    "setB.issuperset(setA)"
   ]
  },
  {
   "cell_type": "code",
   "execution_count": 48,
   "id": "a5e6d3f0",
   "metadata": {},
   "outputs": [
    {
     "data": {
      "text/plain": [
       "False"
      ]
     },
     "execution_count": 48,
     "metadata": {},
     "output_type": "execute_result"
    }
   ],
   "source": [
    "setA = {1,2,3,4,5,6,7,8,9,10}\n",
    "setB = {1,2,3,4,10}\n",
    "\n",
    "setB.isdisjoint(setA)"
   ]
  },
  {
   "cell_type": "code",
   "execution_count": 49,
   "id": "7ad6f78c",
   "metadata": {},
   "outputs": [
    {
     "data": {
      "text/plain": [
       "True"
      ]
     },
     "execution_count": 49,
     "metadata": {},
     "output_type": "execute_result"
    }
   ],
   "source": [
    "setA = {1,2,3,4,5,6,7,8,9,10}\n",
    "setB = {1,2,3,4,10}\n",
    "setC = {7,8,9}\n",
    "\n",
    "setB.isdisjoint(setC)"
   ]
  },
  {
   "cell_type": "code",
   "execution_count": 50,
   "id": "07ab8206",
   "metadata": {},
   "outputs": [],
   "source": [
    "setA = {1,2,3,4,5,6}\n",
    "setB = setA\n",
    "setB.add(7)"
   ]
  },
  {
   "cell_type": "code",
   "execution_count": 51,
   "id": "9298ca0e",
   "metadata": {},
   "outputs": [
    {
     "data": {
      "text/plain": [
       "{1, 2, 3, 4, 5, 6, 7}"
      ]
     },
     "execution_count": 51,
     "metadata": {},
     "output_type": "execute_result"
    }
   ],
   "source": [
    "setA"
   ]
  },
  {
   "cell_type": "code",
   "execution_count": 52,
   "id": "e084591d",
   "metadata": {},
   "outputs": [
    {
     "data": {
      "text/plain": [
       "{1, 2, 3, 4, 5, 6, 7}"
      ]
     },
     "execution_count": 52,
     "metadata": {},
     "output_type": "execute_result"
    }
   ],
   "source": [
    "setB"
   ]
  },
  {
   "cell_type": "code",
   "execution_count": 53,
   "id": "9905dd11",
   "metadata": {},
   "outputs": [],
   "source": [
    "setA = {1,2,3,4,5,6}\n",
    "setB = setA.copy()\n",
    "setB.add(7)"
   ]
  },
  {
   "cell_type": "code",
   "execution_count": 54,
   "id": "1d699c6b",
   "metadata": {},
   "outputs": [
    {
     "data": {
      "text/plain": [
       "{1, 2, 3, 4, 5, 6}"
      ]
     },
     "execution_count": 54,
     "metadata": {},
     "output_type": "execute_result"
    }
   ],
   "source": [
    "setA"
   ]
  },
  {
   "cell_type": "code",
   "execution_count": 55,
   "id": "5d88bce1",
   "metadata": {},
   "outputs": [
    {
     "data": {
      "text/plain": [
       "{1, 2, 3, 4, 5, 6, 7}"
      ]
     },
     "execution_count": 55,
     "metadata": {},
     "output_type": "execute_result"
    }
   ],
   "source": [
    "setB"
   ]
  },
  {
   "cell_type": "code",
   "execution_count": 56,
   "id": "0f3b1677",
   "metadata": {},
   "outputs": [],
   "source": [
    "# frosen set is immutable version of set\n",
    "\n",
    "a = frozenset([1,2,3,4])"
   ]
  },
  {
   "cell_type": "code",
   "execution_count": 57,
   "id": "a9a216c1",
   "metadata": {},
   "outputs": [
    {
     "ename": "AttributeError",
     "evalue": "'frozenset' object has no attribute 'add'",
     "output_type": "error",
     "traceback": [
      "\u001b[1;31m---------------------------------------------------------------------------\u001b[0m",
      "\u001b[1;31mAttributeError\u001b[0m                            Traceback (most recent call last)",
      "\u001b[1;32m<ipython-input-57-9044eda23935>\u001b[0m in \u001b[0;36m<module>\u001b[1;34m\u001b[0m\n\u001b[1;32m----> 1\u001b[1;33m \u001b[0ma\u001b[0m\u001b[1;33m.\u001b[0m\u001b[0madd\u001b[0m\u001b[1;33m(\u001b[0m\u001b[1;36m5\u001b[0m\u001b[1;33m)\u001b[0m\u001b[1;33m\u001b[0m\u001b[1;33m\u001b[0m\u001b[0m\n\u001b[0m",
      "\u001b[1;31mAttributeError\u001b[0m: 'frozenset' object has no attribute 'add'"
     ]
    }
   ],
   "source": [
    "a.add(5)"
   ]
  },
  {
   "cell_type": "code",
   "execution_count": null,
   "id": "2d1d34e9",
   "metadata": {},
   "outputs": [],
   "source": []
  }
 ],
 "metadata": {
  "kernelspec": {
   "display_name": "Python 3",
   "language": "python",
   "name": "python3"
  },
  "language_info": {
   "codemirror_mode": {
    "name": "ipython",
    "version": 3
   },
   "file_extension": ".py",
   "mimetype": "text/x-python",
   "name": "python",
   "nbconvert_exporter": "python",
   "pygments_lexer": "ipython3",
   "version": "3.8.8"
  }
 },
 "nbformat": 4,
 "nbformat_minor": 5
}
