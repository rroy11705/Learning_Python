{
 "cells": [
  {
   "cell_type": "code",
   "execution_count": 1,
   "id": "79ea3334",
   "metadata": {},
   "outputs": [],
   "source": [
    "# Lists: ordered, immutable, allows duplicate elements"
   ]
  },
  {
   "cell_type": "code",
   "execution_count": 30,
   "id": "430c127d",
   "metadata": {},
   "outputs": [],
   "source": [
    "myTuple = (\"Rahul\",)                  # to initiate with one element"
   ]
  },
  {
   "cell_type": "code",
   "execution_count": 31,
   "id": "7e69e444",
   "metadata": {},
   "outputs": [
    {
     "data": {
      "text/plain": [
       "tuple"
      ]
     },
     "execution_count": 31,
     "metadata": {},
     "output_type": "execute_result"
    }
   ],
   "source": [
    "type(myTuple)"
   ]
  },
  {
   "cell_type": "code",
   "execution_count": 32,
   "id": "6afbf0ab",
   "metadata": {},
   "outputs": [],
   "source": [
    "myTuple = tuple([\"Rahul\", 21, \"Python\"])"
   ]
  },
  {
   "cell_type": "code",
   "execution_count": 33,
   "id": "3ded4d32",
   "metadata": {},
   "outputs": [
    {
     "data": {
      "text/plain": [
       "21"
      ]
     },
     "execution_count": 33,
     "metadata": {},
     "output_type": "execute_result"
    }
   ],
   "source": [
    "myTuple[1]"
   ]
  },
  {
   "cell_type": "code",
   "execution_count": 34,
   "id": "a4d9b901",
   "metadata": {},
   "outputs": [
    {
     "data": {
      "text/plain": [
       "'Python'"
      ]
     },
     "execution_count": 34,
     "metadata": {},
     "output_type": "execute_result"
    }
   ],
   "source": [
    "myTuple[-1]"
   ]
  },
  {
   "cell_type": "code",
   "execution_count": 35,
   "id": "9dd19695",
   "metadata": {},
   "outputs": [
    {
     "ename": "TypeError",
     "evalue": "'tuple' object does not support item assignment",
     "output_type": "error",
     "traceback": [
      "\u001b[1;31m---------------------------------------------------------------------------\u001b[0m",
      "\u001b[1;31mTypeError\u001b[0m                                 Traceback (most recent call last)",
      "\u001b[1;32m<ipython-input-35-d939f3bb33b8>\u001b[0m in \u001b[0;36m<module>\u001b[1;34m\u001b[0m\n\u001b[1;32m----> 1\u001b[1;33m \u001b[0mmyTuple\u001b[0m\u001b[1;33m[\u001b[0m\u001b[1;36m1\u001b[0m\u001b[1;33m]\u001b[0m \u001b[1;33m=\u001b[0m \u001b[1;36m22\u001b[0m               \u001b[1;31m# immutable, returns err\u001b[0m\u001b[1;33m\u001b[0m\u001b[1;33m\u001b[0m\u001b[0m\n\u001b[0m",
      "\u001b[1;31mTypeError\u001b[0m: 'tuple' object does not support item assignment"
     ]
    }
   ],
   "source": [
    "myTuple[1] = 22               # immutable, returns err"
   ]
  },
  {
   "cell_type": "code",
   "execution_count": 36,
   "id": "b0273909",
   "metadata": {},
   "outputs": [
    {
     "name": "stdout",
     "output_type": "stream",
     "text": [
      "Rahul\n",
      "21\n",
      "Python\n"
     ]
    }
   ],
   "source": [
    "for x in myTuple:\n",
    "    print(x)"
   ]
  },
  {
   "cell_type": "code",
   "execution_count": 37,
   "id": "5d6a7e3a",
   "metadata": {},
   "outputs": [
    {
     "name": "stdout",
     "output_type": "stream",
     "text": [
      "Yes\n"
     ]
    }
   ],
   "source": [
    "if \"Rahul\" in myTuple:\n",
    "    print(\"Yes\")\n",
    "else:\n",
    "    print(\"No\")"
   ]
  },
  {
   "cell_type": "code",
   "execution_count": 38,
   "id": "db7b6336",
   "metadata": {},
   "outputs": [
    {
     "data": {
      "text/plain": [
       "('a', 'p', 'p', 'l', 'e')"
      ]
     },
     "execution_count": 38,
     "metadata": {},
     "output_type": "execute_result"
    }
   ],
   "source": [
    "fruitTuple = ('a', 'p', 'p', 'l', 'e')\n",
    "\n",
    "fruitTuple"
   ]
  },
  {
   "cell_type": "code",
   "execution_count": 39,
   "id": "af85c84a",
   "metadata": {},
   "outputs": [
    {
     "data": {
      "text/plain": [
       "2"
      ]
     },
     "execution_count": 39,
     "metadata": {},
     "output_type": "execute_result"
    }
   ],
   "source": [
    "fruitTuple.count('p')"
   ]
  },
  {
   "cell_type": "code",
   "execution_count": 40,
   "id": "16a1f5d4",
   "metadata": {},
   "outputs": [
    {
     "data": {
      "text/plain": [
       "1"
      ]
     },
     "execution_count": 40,
     "metadata": {},
     "output_type": "execute_result"
    }
   ],
   "source": [
    "fruitTuple.index('p')             # returns index of first occurence of 'p'"
   ]
  },
  {
   "cell_type": "code",
   "execution_count": 41,
   "id": "7f4e511f",
   "metadata": {},
   "outputs": [
    {
     "data": {
      "text/plain": [
       "(3, 4, 5)"
      ]
     },
     "execution_count": 41,
     "metadata": {},
     "output_type": "execute_result"
    }
   ],
   "source": [
    "a = (1,2,3,4,5,6,7,8,9)\n",
    "\n",
    "a[2:5]"
   ]
  },
  {
   "cell_type": "code",
   "execution_count": 42,
   "id": "5c679363",
   "metadata": {},
   "outputs": [
    {
     "data": {
      "text/plain": [
       "(1, 2, 3, 4, 5)"
      ]
     },
     "execution_count": 42,
     "metadata": {},
     "output_type": "execute_result"
    }
   ],
   "source": [
    "a[:5]"
   ]
  },
  {
   "cell_type": "code",
   "execution_count": 43,
   "id": "e06ad513",
   "metadata": {},
   "outputs": [
    {
     "data": {
      "text/plain": [
       "(3, 4, 5, 6, 7, 8, 9)"
      ]
     },
     "execution_count": 43,
     "metadata": {},
     "output_type": "execute_result"
    }
   ],
   "source": [
    "a[2:]"
   ]
  },
  {
   "cell_type": "code",
   "execution_count": 44,
   "id": "783ed0d5",
   "metadata": {},
   "outputs": [
    {
     "data": {
      "text/plain": [
       "(1, 3, 5, 7, 9)"
      ]
     },
     "execution_count": 44,
     "metadata": {},
     "output_type": "execute_result"
    }
   ],
   "source": [
    "a[::2]"
   ]
  },
  {
   "cell_type": "code",
   "execution_count": 45,
   "id": "5a477de2",
   "metadata": {},
   "outputs": [
    {
     "data": {
      "text/plain": [
       "(9, 8, 7, 6, 5, 4, 3, 2, 1)"
      ]
     },
     "execution_count": 45,
     "metadata": {},
     "output_type": "execute_result"
    }
   ],
   "source": [
    "a[::-1]"
   ]
  },
  {
   "cell_type": "code",
   "execution_count": 46,
   "id": "5eb13b09",
   "metadata": {},
   "outputs": [
    {
     "data": {
      "text/plain": [
       "('Rahul', 21, 'Python')"
      ]
     },
     "execution_count": 46,
     "metadata": {},
     "output_type": "execute_result"
    }
   ],
   "source": [
    "myTuple"
   ]
  },
  {
   "cell_type": "code",
   "execution_count": 47,
   "id": "81de30d8",
   "metadata": {},
   "outputs": [],
   "source": [
    "name, age, progLang = myTuple      # unpack elements"
   ]
  },
  {
   "cell_type": "code",
   "execution_count": 48,
   "id": "9541b98e",
   "metadata": {},
   "outputs": [
    {
     "name": "stdout",
     "output_type": "stream",
     "text": [
      "Rahul 21 Python\n"
     ]
    }
   ],
   "source": [
    "print(name, age, progLang)"
   ]
  },
  {
   "cell_type": "code",
   "execution_count": 49,
   "id": "d9abe53a",
   "metadata": {},
   "outputs": [],
   "source": [
    "numTuple = (1, 3, 5, 7, 9)"
   ]
  },
  {
   "cell_type": "code",
   "execution_count": 50,
   "id": "c4659ee5",
   "metadata": {},
   "outputs": [],
   "source": [
    "i1, *i2, i3 = numTuple"
   ]
  },
  {
   "cell_type": "code",
   "execution_count": 51,
   "id": "d7b42ac5",
   "metadata": {},
   "outputs": [
    {
     "name": "stdout",
     "output_type": "stream",
     "text": [
      "1\n"
     ]
    }
   ],
   "source": [
    "print(i1)"
   ]
  },
  {
   "cell_type": "code",
   "execution_count": 52,
   "id": "00799ee9",
   "metadata": {},
   "outputs": [
    {
     "name": "stdout",
     "output_type": "stream",
     "text": [
      "[3, 5, 7]\n"
     ]
    }
   ],
   "source": [
    "print(i2)"
   ]
  },
  {
   "cell_type": "code",
   "execution_count": 53,
   "id": "cd01a9e2",
   "metadata": {},
   "outputs": [
    {
     "name": "stdout",
     "output_type": "stream",
     "text": [
      "9\n"
     ]
    }
   ],
   "source": [
    "print(i3)"
   ]
  },
  {
   "cell_type": "code",
   "execution_count": 60,
   "id": "f590d56b",
   "metadata": {},
   "outputs": [
    {
     "name": "stdout",
     "output_type": "stream",
     "text": [
      "size of tuple: 64 bytes\n",
      "size of list: 80 bytes\n"
     ]
    }
   ],
   "source": [
    "# since a tuple is immutable python can use internal operations to make it more efficient while working large data\n",
    "\n",
    "import sys\n",
    "print('size of tuple:',sys.getsizeof((\"Rahul\", 21, \"Python\")), 'bytes')\n",
    "print('size of list:',sys.getsizeof([\"Rahul\", 21, \"Python\"]), 'bytes')"
   ]
  },
  {
   "cell_type": "code",
   "execution_count": 62,
   "id": "e2d24e17",
   "metadata": {},
   "outputs": [
    {
     "name": "stdout",
     "output_type": "stream",
     "text": [
      "Creation time for tuple: 0.02748559999963618\n",
      "Creation time for list: 0.1216963000006217\n"
     ]
    }
   ],
   "source": [
    "# touple take less time to create\n",
    "\n",
    "import timeit\n",
    "print('Creation time for tuple:',timeit.timeit(stmt='(\"Rahul\", 21, \"Python\")', number=1000000))\n",
    "print('Creation time for list:',timeit.timeit(stmt='[\"Rahul\", 21, \"Python\"]', number=1000000))"
   ]
  },
  {
   "cell_type": "code",
   "execution_count": null,
   "id": "cd8bbe05",
   "metadata": {},
   "outputs": [],
   "source": []
  }
 ],
 "metadata": {
  "kernelspec": {
   "display_name": "Python 3",
   "language": "python",
   "name": "python3"
  },
  "language_info": {
   "codemirror_mode": {
    "name": "ipython",
    "version": 3
   },
   "file_extension": ".py",
   "mimetype": "text/x-python",
   "name": "python",
   "nbconvert_exporter": "python",
   "pygments_lexer": "ipython3",
   "version": "3.8.8"
  }
 },
 "nbformat": 4,
 "nbformat_minor": 5
}
