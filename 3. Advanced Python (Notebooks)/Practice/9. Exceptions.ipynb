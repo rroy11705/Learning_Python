{
 "cells": [
  {
   "cell_type": "code",
   "execution_count": 1,
   "id": "0e61b603",
   "metadata": {},
   "outputs": [],
   "source": [
    "# Errors and Exceptions"
   ]
  },
  {
   "cell_type": "code",
   "execution_count": 3,
   "id": "217131ef",
   "metadata": {},
   "outputs": [
    {
     "ename": "SyntaxError",
     "evalue": "invalid syntax (<ipython-input-3-fed4b61d14cd>, line 1)",
     "output_type": "error",
     "traceback": [
      "\u001b[1;36m  File \u001b[1;32m\"<ipython-input-3-fed4b61d14cd>\"\u001b[1;36m, line \u001b[1;32m1\u001b[0m\n\u001b[1;33m    a = 5 print(a)\u001b[0m\n\u001b[1;37m          ^\u001b[0m\n\u001b[1;31mSyntaxError\u001b[0m\u001b[1;31m:\u001b[0m invalid syntax\n"
     ]
    }
   ],
   "source": [
    "a = 5 print(a)                                 # SyntaxError"
   ]
  },
  {
   "cell_type": "code",
   "execution_count": 4,
   "id": "f03f61b7",
   "metadata": {},
   "outputs": [
    {
     "ename": "TypeError",
     "evalue": "unsupported operand type(s) for +: 'int' and 'str'",
     "output_type": "error",
     "traceback": [
      "\u001b[1;31m---------------------------------------------------------------------------\u001b[0m",
      "\u001b[1;31mTypeError\u001b[0m                                 Traceback (most recent call last)",
      "\u001b[1;32m<ipython-input-4-1419e460962b>\u001b[0m in \u001b[0;36m<module>\u001b[1;34m\u001b[0m\n\u001b[1;32m----> 1\u001b[1;33m \u001b[0ma\u001b[0m\u001b[1;33m=\u001b[0m \u001b[1;36m5\u001b[0m \u001b[1;33m+\u001b[0m \u001b[1;34m'10'\u001b[0m\u001b[1;33m\u001b[0m\u001b[1;33m\u001b[0m\u001b[0m\n\u001b[0m",
      "\u001b[1;31mTypeError\u001b[0m: unsupported operand type(s) for +: 'int' and 'str'"
     ]
    }
   ],
   "source": [
    "a= 5 + '10'                                    # TypeError"
   ]
  },
  {
   "cell_type": "code",
   "execution_count": 5,
   "id": "9acf122e",
   "metadata": {},
   "outputs": [
    {
     "ename": "ModuleNotFoundError",
     "evalue": "No module named 'dummy'",
     "output_type": "error",
     "traceback": [
      "\u001b[1;31m---------------------------------------------------------------------------\u001b[0m",
      "\u001b[1;31mModuleNotFoundError\u001b[0m                       Traceback (most recent call last)",
      "\u001b[1;32m<ipython-input-5-cfc16ef2ccc8>\u001b[0m in \u001b[0;36m<module>\u001b[1;34m\u001b[0m\n\u001b[1;32m----> 1\u001b[1;33m \u001b[1;32mimport\u001b[0m \u001b[0mdummy\u001b[0m\u001b[1;33m\u001b[0m\u001b[1;33m\u001b[0m\u001b[0m\n\u001b[0m",
      "\u001b[1;31mModuleNotFoundError\u001b[0m: No module named 'dummy'"
     ]
    }
   ],
   "source": [
    "import dummy_threading                         # ModuleNotFoundError"
   ]
  },
  {
   "cell_type": "code",
   "execution_count": 7,
   "id": "8d9adc2f",
   "metadata": {},
   "outputs": [
    {
     "ename": "NameError",
     "evalue": "name 'c' is not defined",
     "output_type": "error",
     "traceback": [
      "\u001b[1;31m---------------------------------------------------------------------------\u001b[0m",
      "\u001b[1;31mNameError\u001b[0m                                 Traceback (most recent call last)",
      "\u001b[1;32m<ipython-input-7-51d71ae8f18c>\u001b[0m in \u001b[0;36m<module>\u001b[1;34m\u001b[0m\n\u001b[0;32m      1\u001b[0m \u001b[0ma\u001b[0m \u001b[1;33m=\u001b[0m \u001b[1;36m5\u001b[0m\u001b[1;33m\u001b[0m\u001b[1;33m\u001b[0m\u001b[0m\n\u001b[1;32m----> 2\u001b[1;33m \u001b[0mb\u001b[0m \u001b[1;33m=\u001b[0m \u001b[0mc\u001b[0m                                       \u001b[1;31m# NameError\u001b[0m\u001b[1;33m\u001b[0m\u001b[1;33m\u001b[0m\u001b[0m\n\u001b[0m",
      "\u001b[1;31mNameError\u001b[0m: name 'c' is not defined"
     ]
    }
   ],
   "source": [
    "a = 5\n",
    "b = c                                       # NameError"
   ]
  },
  {
   "cell_type": "code",
   "execution_count": 9,
   "id": "2de3ee71",
   "metadata": {},
   "outputs": [
    {
     "ename": "FileNotFoundError",
     "evalue": "[Errno 2] No such file or directory: 'dummy.txt'",
     "output_type": "error",
     "traceback": [
      "\u001b[1;31m---------------------------------------------------------------------------\u001b[0m",
      "\u001b[1;31mFileNotFoundError\u001b[0m                         Traceback (most recent call last)",
      "\u001b[1;32m<ipython-input-9-0f9395ecd4b6>\u001b[0m in \u001b[0;36m<module>\u001b[1;34m\u001b[0m\n\u001b[1;32m----> 1\u001b[1;33m \u001b[0mf\u001b[0m \u001b[1;33m=\u001b[0m \u001b[0mopen\u001b[0m\u001b[1;33m(\u001b[0m\u001b[1;34m'dummy.txt'\u001b[0m\u001b[1;33m)\u001b[0m                     \u001b[1;31m# FileNotFoundError\u001b[0m\u001b[1;33m\u001b[0m\u001b[1;33m\u001b[0m\u001b[0m\n\u001b[0m",
      "\u001b[1;31mFileNotFoundError\u001b[0m: [Errno 2] No such file or directory: 'dummy.txt'"
     ]
    }
   ],
   "source": [
    "f = open('dummy.txt')                     # FileNotFoundError"
   ]
  },
  {
   "cell_type": "code",
   "execution_count": 11,
   "id": "71b72234",
   "metadata": {},
   "outputs": [
    {
     "ename": "ValueError",
     "evalue": "list.remove(x): x not in list",
     "output_type": "error",
     "traceback": [
      "\u001b[1;31m---------------------------------------------------------------------------\u001b[0m",
      "\u001b[1;31mValueError\u001b[0m                                Traceback (most recent call last)",
      "\u001b[1;32m<ipython-input-11-f3bae5758d68>\u001b[0m in \u001b[0;36m<module>\u001b[1;34m\u001b[0m\n\u001b[0;32m      1\u001b[0m \u001b[0ma\u001b[0m \u001b[1;33m=\u001b[0m \u001b[1;33m[\u001b[0m\u001b[1;36m1\u001b[0m\u001b[1;33m,\u001b[0m\u001b[1;36m2\u001b[0m\u001b[1;33m,\u001b[0m\u001b[1;36m3\u001b[0m\u001b[1;33m]\u001b[0m\u001b[1;33m\u001b[0m\u001b[1;33m\u001b[0m\u001b[0m\n\u001b[1;32m----> 2\u001b[1;33m \u001b[0ma\u001b[0m\u001b[1;33m.\u001b[0m\u001b[0mremove\u001b[0m\u001b[1;33m(\u001b[0m\u001b[1;36m4\u001b[0m\u001b[1;33m)\u001b[0m\u001b[1;33m\u001b[0m\u001b[1;33m\u001b[0m\u001b[0m\n\u001b[0m\u001b[0;32m      3\u001b[0m \u001b[0ma\u001b[0m\u001b[1;33m\u001b[0m\u001b[1;33m\u001b[0m\u001b[0m\n",
      "\u001b[1;31mValueError\u001b[0m: list.remove(x): x not in list"
     ]
    }
   ],
   "source": [
    "a = [1,2,3]\n",
    "a.remove(4)\n",
    "a                                        # ValueError"
   ]
  },
  {
   "cell_type": "code",
   "execution_count": 12,
   "id": "41a2c33b",
   "metadata": {},
   "outputs": [
    {
     "ename": "IndexError",
     "evalue": "list index out of range",
     "output_type": "error",
     "traceback": [
      "\u001b[1;31m---------------------------------------------------------------------------\u001b[0m",
      "\u001b[1;31mIndexError\u001b[0m                                Traceback (most recent call last)",
      "\u001b[1;32m<ipython-input-12-47894dcd86df>\u001b[0m in \u001b[0;36m<module>\u001b[1;34m\u001b[0m\n\u001b[0;32m      1\u001b[0m \u001b[0ma\u001b[0m \u001b[1;33m=\u001b[0m \u001b[1;33m[\u001b[0m\u001b[1;36m1\u001b[0m\u001b[1;33m,\u001b[0m\u001b[1;36m2\u001b[0m\u001b[1;33m,\u001b[0m\u001b[1;36m3\u001b[0m\u001b[1;33m]\u001b[0m\u001b[1;33m\u001b[0m\u001b[1;33m\u001b[0m\u001b[0m\n\u001b[1;32m----> 2\u001b[1;33m \u001b[0ma\u001b[0m\u001b[1;33m[\u001b[0m\u001b[1;36m3\u001b[0m\u001b[1;33m]\u001b[0m\u001b[1;33m\u001b[0m\u001b[1;33m\u001b[0m\u001b[0m\n\u001b[0m",
      "\u001b[1;31mIndexError\u001b[0m: list index out of range"
     ]
    }
   ],
   "source": [
    "a = [1,2,3]\n",
    "a[3]                                    # IndexError"
   ]
  },
  {
   "cell_type": "code",
   "execution_count": 13,
   "id": "484c4a1a",
   "metadata": {},
   "outputs": [
    {
     "ename": "KeyError",
     "evalue": "'age'",
     "output_type": "error",
     "traceback": [
      "\u001b[1;31m---------------------------------------------------------------------------\u001b[0m",
      "\u001b[1;31mKeyError\u001b[0m                                  Traceback (most recent call last)",
      "\u001b[1;32m<ipython-input-13-9b5af3ae461c>\u001b[0m in \u001b[0;36m<module>\u001b[1;34m\u001b[0m\n\u001b[0;32m      2\u001b[0m     \u001b[1;34m'name'\u001b[0m\u001b[1;33m:\u001b[0m \u001b[1;34m'Rahul'\u001b[0m\u001b[1;33m\u001b[0m\u001b[1;33m\u001b[0m\u001b[0m\n\u001b[0;32m      3\u001b[0m }\n\u001b[1;32m----> 4\u001b[1;33m \u001b[0mmyDict\u001b[0m\u001b[1;33m[\u001b[0m\u001b[1;34m'age'\u001b[0m\u001b[1;33m]\u001b[0m\u001b[1;33m\u001b[0m\u001b[1;33m\u001b[0m\u001b[0m\n\u001b[0m",
      "\u001b[1;31mKeyError\u001b[0m: 'age'"
     ]
    }
   ],
   "source": [
    "myDict = {\n",
    "    'name': 'Rahul'\n",
    "}\n",
    "myDict['age']                          # KeyError"
   ]
  },
  {
   "cell_type": "code",
   "execution_count": 14,
   "id": "e1fad95c",
   "metadata": {},
   "outputs": [
    {
     "ename": "Exception",
     "evalue": "x should be posetive",
     "output_type": "error",
     "traceback": [
      "\u001b[1;31m---------------------------------------------------------------------------\u001b[0m",
      "\u001b[1;31mException\u001b[0m                                 Traceback (most recent call last)",
      "\u001b[1;32m<ipython-input-14-6cab3e5e0a44>\u001b[0m in \u001b[0;36m<module>\u001b[1;34m\u001b[0m\n\u001b[0;32m      2\u001b[0m \u001b[0mx\u001b[0m \u001b[1;33m=\u001b[0m \u001b[1;33m-\u001b[0m\u001b[1;36m1\u001b[0m\u001b[1;33m\u001b[0m\u001b[1;33m\u001b[0m\u001b[0m\n\u001b[0;32m      3\u001b[0m \u001b[1;32mif\u001b[0m \u001b[0mx\u001b[0m \u001b[1;33m<\u001b[0m \u001b[1;36m0\u001b[0m\u001b[1;33m:\u001b[0m\u001b[1;33m\u001b[0m\u001b[1;33m\u001b[0m\u001b[0m\n\u001b[1;32m----> 4\u001b[1;33m     \u001b[1;32mraise\u001b[0m \u001b[0mException\u001b[0m\u001b[1;33m(\u001b[0m\u001b[1;34m\"x should be posetive\"\u001b[0m\u001b[1;33m)\u001b[0m\u001b[1;33m\u001b[0m\u001b[1;33m\u001b[0m\u001b[0m\n\u001b[0m",
      "\u001b[1;31mException\u001b[0m: x should be posetive"
     ]
    }
   ],
   "source": [
    "# Raise custom error\n",
    "x = -1\n",
    "if x < 0:\n",
    "    raise Exception(\"x should be posetive\")"
   ]
  },
  {
   "cell_type": "code",
   "execution_count": 18,
   "id": "d2db8ab3",
   "metadata": {},
   "outputs": [
    {
     "ename": "AssertionError",
     "evalue": "x should be posetive",
     "output_type": "error",
     "traceback": [
      "\u001b[1;31m---------------------------------------------------------------------------\u001b[0m",
      "\u001b[1;31mAssertionError\u001b[0m                            Traceback (most recent call last)",
      "\u001b[1;32m<ipython-input-18-ddca601b8215>\u001b[0m in \u001b[0;36m<module>\u001b[1;34m\u001b[0m\n\u001b[0;32m      1\u001b[0m \u001b[0mx\u001b[0m \u001b[1;33m=\u001b[0m \u001b[1;33m-\u001b[0m\u001b[1;36m1\u001b[0m\u001b[1;33m\u001b[0m\u001b[1;33m\u001b[0m\u001b[0m\n\u001b[1;32m----> 2\u001b[1;33m \u001b[1;32massert\u001b[0m \u001b[1;33m(\u001b[0m\u001b[0mx\u001b[0m\u001b[1;33m>=\u001b[0m\u001b[1;36m0\u001b[0m\u001b[1;33m)\u001b[0m\u001b[1;33m,\u001b[0m \u001b[1;34m\"x should be posetive\"\u001b[0m\u001b[1;33m\u001b[0m\u001b[1;33m\u001b[0m\u001b[0m\n\u001b[0m",
      "\u001b[1;31mAssertionError\u001b[0m: x should be posetive"
     ]
    }
   ],
   "source": [
    "# AssertionError\n",
    "x = -1\n",
    "assert (x>=0), \"x should be posetive\""
   ]
  },
  {
   "cell_type": "code",
   "execution_count": 24,
   "id": "a4c0bda4",
   "metadata": {},
   "outputs": [],
   "source": [
    "# handel exception"
   ]
  },
  {
   "cell_type": "code",
   "execution_count": 25,
   "id": "69b7f6b8",
   "metadata": {},
   "outputs": [
    {
     "name": "stdout",
     "output_type": "stream",
     "text": [
      "An error Happened: division by zero\n"
     ]
    }
   ],
   "source": [
    "try:\n",
    "    a = 5 / 0                         # ZeroDivisionError\n",
    "except Exception as e:\n",
    "    print(\"An error Happened:\", e)"
   ]
  },
  {
   "cell_type": "code",
   "execution_count": 34,
   "id": "e02442a5",
   "metadata": {},
   "outputs": [
    {
     "name": "stdout",
     "output_type": "stream",
     "text": [
      "ZeroDivisionError: division by zero\n",
      "Cleaning Up...\n"
     ]
    }
   ],
   "source": [
    "try:\n",
    "    a = 5 / 0                         # ZeroDivisionError\n",
    "    b = a + '10'                      # TypeError\n",
    "except ZeroDivisionError as e:\n",
    "    print(\"ZeroDivisionError:\", e)\n",
    "    \n",
    "except TypeError as e:\n",
    "    print(\"TypeError:\", e)\n",
    "    \n",
    "else:\n",
    "    print('Every thing is fine')\n",
    "    \n",
    "finally:\n",
    "    print(\"Cleaning Up...\")"
   ]
  },
  {
   "cell_type": "code",
   "execution_count": 35,
   "id": "9b8df908",
   "metadata": {},
   "outputs": [
    {
     "name": "stdout",
     "output_type": "stream",
     "text": [
      "TypeError: unsupported operand type(s) for +: 'float' and 'str'\n",
      "Cleaning Up...\n"
     ]
    }
   ],
   "source": [
    "try:\n",
    "    a = 5 / 1                        \n",
    "    b = a + '10'                      # TypeError\n",
    "except ZeroDivisionError as e:\n",
    "    print(\"ZeroDivisionError:\", e)\n",
    "    \n",
    "except TypeError as e:\n",
    "    print(\"TypeError:\", e)\n",
    "    \n",
    "else:\n",
    "    print('Every thing is fine')\n",
    "    \n",
    "finally:\n",
    "    print(\"Cleaning Up...\")"
   ]
  },
  {
   "cell_type": "code",
   "execution_count": 36,
   "id": "379fc80c",
   "metadata": {},
   "outputs": [
    {
     "name": "stdout",
     "output_type": "stream",
     "text": [
      "Every thing is fine\n",
      "Cleaning Up...\n"
     ]
    }
   ],
   "source": [
    "try:\n",
    "    a = 5 / 1                        \n",
    "    b = a + 10                      \n",
    "except ZeroDivisionError as e:\n",
    "    print(\"ZeroDivisionError:\", e)\n",
    "    \n",
    "except TypeError as e:\n",
    "    print(\"TypeError:\", e)\n",
    "    \n",
    "else:\n",
    "    print('Every thing is fine')\n",
    "    \n",
    "finally:\n",
    "    print(\"Cleaning Up...\")"
   ]
  },
  {
   "cell_type": "code",
   "execution_count": 42,
   "id": "21544dfc",
   "metadata": {},
   "outputs": [
    {
     "name": "stdout",
     "output_type": "stream",
     "text": [
      "Value is too low 0\n"
     ]
    }
   ],
   "source": [
    "class ValueTooHighError(Exception):\n",
    "    pass\n",
    "\n",
    "\n",
    "class ValueTooLowError(Exception):\n",
    "    def __init__(self, message, value):\n",
    "        self.message = message\n",
    "        self.value = value\n",
    "\n",
    "\n",
    "def test_value(x):\n",
    "        if x > 100:\n",
    "            raise ValueTooHighError(\"Value is too high\")\n",
    "        if x < 1:\n",
    "            raise ValueTooLowError(\"Value is too low\", x)\n",
    "        else:\n",
    "            print(x)\n",
    "            \n",
    "            \n",
    "try:\n",
    "    test_value(0)\n",
    "except ValueTooHighError as e:\n",
    "    print(e)\n",
    "except ValueTooLowError as e:\n",
    "    print(e.message, e.value)"
   ]
  },
  {
   "cell_type": "code",
   "execution_count": null,
   "id": "d7970f94",
   "metadata": {},
   "outputs": [],
   "source": []
  }
 ],
 "metadata": {
  "kernelspec": {
   "display_name": "Python 3",
   "language": "python",
   "name": "python3"
  },
  "language_info": {
   "codemirror_mode": {
    "name": "ipython",
    "version": 3
   },
   "file_extension": ".py",
   "mimetype": "text/x-python",
   "name": "python",
   "nbconvert_exporter": "python",
   "pygments_lexer": "ipython3",
   "version": "3.8.8"
  }
 },
 "nbformat": 4,
 "nbformat_minor": 5
}
