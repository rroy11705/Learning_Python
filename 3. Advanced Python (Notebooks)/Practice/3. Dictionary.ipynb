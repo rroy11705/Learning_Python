{
 "cells": [
  {
   "cell_type": "code",
   "execution_count": 63,
   "id": "e31df2f5",
   "metadata": {},
   "outputs": [],
   "source": [
    "myDict = {\n",
    "    'name': 'Rahul',\n",
    "    'age': 21,\n",
    "    \"prog_language\": 'Python'\n",
    "}"
   ]
  },
  {
   "cell_type": "code",
   "execution_count": 2,
   "id": "49f2e044",
   "metadata": {},
   "outputs": [
    {
     "data": {
      "text/plain": [
       "{'name': 'Rahul', 'age': 21, 'prog_language': 'Python'}"
      ]
     },
     "execution_count": 2,
     "metadata": {},
     "output_type": "execute_result"
    }
   ],
   "source": [
    "myDict"
   ]
  },
  {
   "cell_type": "code",
   "execution_count": 3,
   "id": "e8e446c2",
   "metadata": {},
   "outputs": [],
   "source": [
    "myDict2 = dict(\n",
    "    name='Rahul',\n",
    "    age=21,\n",
    "    prog_language='Python'\n",
    ")"
   ]
  },
  {
   "cell_type": "code",
   "execution_count": 9,
   "id": "0da29fbb",
   "metadata": {},
   "outputs": [
    {
     "data": {
      "text/plain": [
       "{'name': 'Rahul', 'age': 21, 'prog_language': 'Python'}"
      ]
     },
     "execution_count": 9,
     "metadata": {},
     "output_type": "execute_result"
    }
   ],
   "source": [
    "myDict"
   ]
  },
  {
   "cell_type": "code",
   "execution_count": 10,
   "id": "c2369e69",
   "metadata": {},
   "outputs": [
    {
     "data": {
      "text/plain": [
       "'Rahul'"
      ]
     },
     "execution_count": 10,
     "metadata": {},
     "output_type": "execute_result"
    }
   ],
   "source": [
    "myDict['name']"
   ]
  },
  {
   "cell_type": "code",
   "execution_count": 11,
   "id": "fa01b85d",
   "metadata": {},
   "outputs": [
    {
     "ename": "KeyError",
     "evalue": "'email'",
     "output_type": "error",
     "traceback": [
      "\u001b[1;31m---------------------------------------------------------------------------\u001b[0m",
      "\u001b[1;31mKeyError\u001b[0m                                  Traceback (most recent call last)",
      "\u001b[1;32m<ipython-input-11-0c25ddfb2c98>\u001b[0m in \u001b[0;36m<module>\u001b[1;34m\u001b[0m\n\u001b[1;32m----> 1\u001b[1;33m \u001b[0mmyDict\u001b[0m\u001b[1;33m[\u001b[0m\u001b[1;34m'email'\u001b[0m\u001b[1;33m]\u001b[0m\u001b[1;33m\u001b[0m\u001b[1;33m\u001b[0m\u001b[0m\n\u001b[0m",
      "\u001b[1;31mKeyError\u001b[0m: 'email'"
     ]
    }
   ],
   "source": [
    "myDict['email']"
   ]
  },
  {
   "cell_type": "code",
   "execution_count": 12,
   "id": "e437bd72",
   "metadata": {},
   "outputs": [],
   "source": [
    "myDict['email'] = 'rroy@gmail.com'"
   ]
  },
  {
   "cell_type": "code",
   "execution_count": 13,
   "id": "ce02e279",
   "metadata": {},
   "outputs": [
    {
     "data": {
      "text/plain": [
       "{'name': 'Rahul',\n",
       " 'age': 21,\n",
       " 'prog_language': 'Python',\n",
       " 'email': 'rroy@gmail.com'}"
      ]
     },
     "execution_count": 13,
     "metadata": {},
     "output_type": "execute_result"
    }
   ],
   "source": [
    "myDict"
   ]
  },
  {
   "cell_type": "code",
   "execution_count": 23,
   "id": "4fe45544",
   "metadata": {},
   "outputs": [],
   "source": [
    "myDict['email'] = 'rahulroy@gmail.com'"
   ]
  },
  {
   "cell_type": "code",
   "execution_count": 24,
   "id": "9ffed952",
   "metadata": {},
   "outputs": [
    {
     "data": {
      "text/plain": [
       "{'name': 'Rahul',\n",
       " 'age': 21,\n",
       " 'prog_language': 'Python',\n",
       " 'email': 'rahulroy@gmail.com'}"
      ]
     },
     "execution_count": 24,
     "metadata": {},
     "output_type": "execute_result"
    }
   ],
   "source": [
    "myDict"
   ]
  },
  {
   "cell_type": "code",
   "execution_count": 25,
   "id": "d4ff10a5",
   "metadata": {},
   "outputs": [],
   "source": [
    "del myDict['email']            # myDict.pop('email') do the same  # myDict.popitem() removes last inserted item"
   ]
  },
  {
   "cell_type": "code",
   "execution_count": 26,
   "id": "a7674ffa",
   "metadata": {},
   "outputs": [
    {
     "data": {
      "text/plain": [
       "{'name': 'Rahul', 'age': 21, 'prog_language': 'Python'}"
      ]
     },
     "execution_count": 26,
     "metadata": {},
     "output_type": "execute_result"
    }
   ],
   "source": [
    "myDict"
   ]
  },
  {
   "cell_type": "code",
   "execution_count": 28,
   "id": "c6dc2494",
   "metadata": {},
   "outputs": [
    {
     "name": "stdout",
     "output_type": "stream",
     "text": [
      "Rahul\n"
     ]
    }
   ],
   "source": [
    "if 'name' in myDict:\n",
    "    print(myDict['name'])"
   ]
  },
  {
   "cell_type": "code",
   "execution_count": 36,
   "id": "82f61889",
   "metadata": {},
   "outputs": [
    {
     "name": "stdout",
     "output_type": "stream",
     "text": [
      "Rahul\n"
     ]
    }
   ],
   "source": [
    "try:\n",
    "    print(myDict['name'])\n",
    "except KeyError as e:\n",
    "    print(\"Error\", e)"
   ]
  },
  {
   "cell_type": "code",
   "execution_count": 35,
   "id": "64e1b497",
   "metadata": {},
   "outputs": [
    {
     "name": "stdout",
     "output_type": "stream",
     "text": [
      "'email' not present\n"
     ]
    }
   ],
   "source": [
    "try:\n",
    "    print(myDict['email'])\n",
    "except KeyError as e:\n",
    "    print(e, \"not present\")"
   ]
  },
  {
   "cell_type": "code",
   "execution_count": 37,
   "id": "8a2c2181",
   "metadata": {},
   "outputs": [
    {
     "name": "stdout",
     "output_type": "stream",
     "text": [
      "name\n",
      "age\n",
      "prog_language\n"
     ]
    }
   ],
   "source": [
    "for key in myDict:\n",
    "    print(key)"
   ]
  },
  {
   "cell_type": "code",
   "execution_count": 38,
   "id": "5f6bbe60",
   "metadata": {},
   "outputs": [
    {
     "name": "stdout",
     "output_type": "stream",
     "text": [
      "name\n",
      "age\n",
      "prog_language\n"
     ]
    }
   ],
   "source": [
    "for key in myDict.keys():\n",
    "    print(key)"
   ]
  },
  {
   "cell_type": "code",
   "execution_count": 41,
   "id": "f269eaf3",
   "metadata": {},
   "outputs": [
    {
     "name": "stdout",
     "output_type": "stream",
     "text": [
      "Rahul\n",
      "21\n",
      "Python\n"
     ]
    }
   ],
   "source": [
    "for value in myDict.values():\n",
    "    print(value)"
   ]
  },
  {
   "cell_type": "code",
   "execution_count": 43,
   "id": "adcbf1d7",
   "metadata": {},
   "outputs": [
    {
     "name": "stdout",
     "output_type": "stream",
     "text": [
      "name : Rahul\n",
      "age : 21\n",
      "prog_language : Python\n"
     ]
    }
   ],
   "source": [
    "for key, value in myDict.items():\n",
    "    print(key, ':', value)"
   ]
  },
  {
   "cell_type": "code",
   "execution_count": 44,
   "id": "2084da57",
   "metadata": {},
   "outputs": [],
   "source": [
    "myDictCopy = myDict"
   ]
  },
  {
   "cell_type": "code",
   "execution_count": 45,
   "id": "662e0330",
   "metadata": {},
   "outputs": [
    {
     "data": {
      "text/plain": [
       "{'name': 'Rahul', 'age': 21, 'prog_language': 'Python'}"
      ]
     },
     "execution_count": 45,
     "metadata": {},
     "output_type": "execute_result"
    }
   ],
   "source": [
    "myDictCopy"
   ]
  },
  {
   "cell_type": "code",
   "execution_count": 46,
   "id": "b33c0cea",
   "metadata": {},
   "outputs": [],
   "source": [
    "myDictCopy['email'] = 'rroy@gmail.com'"
   ]
  },
  {
   "cell_type": "code",
   "execution_count": 47,
   "id": "0fe73d98",
   "metadata": {},
   "outputs": [
    {
     "data": {
      "text/plain": [
       "{'name': 'Rahul',\n",
       " 'age': 21,\n",
       " 'prog_language': 'Python',\n",
       " 'email': 'rroy@gmail.com'}"
      ]
     },
     "execution_count": 47,
     "metadata": {},
     "output_type": "execute_result"
    }
   ],
   "source": [
    "myDictCopy"
   ]
  },
  {
   "cell_type": "code",
   "execution_count": 48,
   "id": "63e8a26a",
   "metadata": {},
   "outputs": [
    {
     "data": {
      "text/plain": [
       "{'name': 'Rahul',\n",
       " 'age': 21,\n",
       " 'prog_language': 'Python',\n",
       " 'email': 'rroy@gmail.com'}"
      ]
     },
     "execution_count": 48,
     "metadata": {},
     "output_type": "execute_result"
    }
   ],
   "source": [
    "myDict"
   ]
  },
  {
   "cell_type": "code",
   "execution_count": null,
   "id": "1d5f901a",
   "metadata": {},
   "outputs": [],
   "source": [
    "myDict.popitem()                       # removes email form myDict"
   ]
  },
  {
   "cell_type": "code",
   "execution_count": 64,
   "id": "5df66723",
   "metadata": {},
   "outputs": [],
   "source": [
    "myDictNewCopy = myDict.copy()"
   ]
  },
  {
   "cell_type": "code",
   "execution_count": 65,
   "id": "9903d222",
   "metadata": {},
   "outputs": [],
   "source": [
    "myDictNewCopy['email'] = 'rroy@gmail.com'"
   ]
  },
  {
   "cell_type": "code",
   "execution_count": 66,
   "id": "a691e964",
   "metadata": {},
   "outputs": [
    {
     "data": {
      "text/plain": [
       "{'name': 'Rahul',\n",
       " 'age': 21,\n",
       " 'prog_language': 'Python',\n",
       " 'email': 'rroy@gmail.com'}"
      ]
     },
     "execution_count": 66,
     "metadata": {},
     "output_type": "execute_result"
    }
   ],
   "source": [
    "myDictNewCopy"
   ]
  },
  {
   "cell_type": "code",
   "execution_count": 69,
   "id": "2a2a1f83",
   "metadata": {},
   "outputs": [
    {
     "data": {
      "text/plain": [
       "{'name': 'Rahul', 'age': 21, 'prog_language': 'Python'}"
      ]
     },
     "execution_count": 69,
     "metadata": {},
     "output_type": "execute_result"
    }
   ],
   "source": [
    "myDict"
   ]
  },
  {
   "cell_type": "code",
   "execution_count": 68,
   "id": "9d77cffe",
   "metadata": {},
   "outputs": [],
   "source": [
    "myDictNewCopy = {\n",
    "    'name': 'Rajesh',\n",
    "    'age': 22,\n",
    "    'email': 'raj@gmail.com'\n",
    "}"
   ]
  },
  {
   "cell_type": "code",
   "execution_count": 70,
   "id": "5925c26f",
   "metadata": {},
   "outputs": [],
   "source": [
    "myDict.update(myDictNewCopy)"
   ]
  },
  {
   "cell_type": "code",
   "execution_count": 71,
   "id": "d906809f",
   "metadata": {},
   "outputs": [
    {
     "data": {
      "text/plain": [
       "{'name': 'Rajesh',\n",
       " 'age': 22,\n",
       " 'prog_language': 'Python',\n",
       " 'email': 'raj@gmail.com'}"
      ]
     },
     "execution_count": 71,
     "metadata": {},
     "output_type": "execute_result"
    }
   ],
   "source": [
    "myDict"
   ]
  },
  {
   "cell_type": "code",
   "execution_count": 72,
   "id": "66578f70",
   "metadata": {},
   "outputs": [],
   "source": [
    "# we can use any immutable element as a key, e.g. string, number, tuple\n",
    "\n",
    "numDict = { 3: 9, 6: 36, 9: 81 }"
   ]
  },
  {
   "cell_type": "code",
   "execution_count": 73,
   "id": "ab28ffe1",
   "metadata": {},
   "outputs": [
    {
     "data": {
      "text/plain": [
       "9"
      ]
     },
     "execution_count": 73,
     "metadata": {},
     "output_type": "execute_result"
    }
   ],
   "source": [
    "numDict[3]"
   ]
  },
  {
   "cell_type": "code",
   "execution_count": 74,
   "id": "221294c3",
   "metadata": {},
   "outputs": [],
   "source": [
    "tupleDict = {\n",
    "    (8, 7): 15,\n",
    "    (10, 11): 21\n",
    "}"
   ]
  },
  {
   "cell_type": "code",
   "execution_count": 75,
   "id": "3cfda784",
   "metadata": {},
   "outputs": [
    {
     "data": {
      "text/plain": [
       "{(8, 7): 15, (10, 11): 21}"
      ]
     },
     "execution_count": 75,
     "metadata": {},
     "output_type": "execute_result"
    }
   ],
   "source": [
    "tupleDict"
   ]
  },
  {
   "cell_type": "code",
   "execution_count": null,
   "id": "54ffe52c",
   "metadata": {},
   "outputs": [],
   "source": []
  }
 ],
 "metadata": {
  "kernelspec": {
   "display_name": "Python 3",
   "language": "python",
   "name": "python3"
  },
  "language_info": {
   "codemirror_mode": {
    "name": "ipython",
    "version": 3
   },
   "file_extension": ".py",
   "mimetype": "text/x-python",
   "name": "python",
   "nbconvert_exporter": "python",
   "pygments_lexer": "ipython3",
   "version": "3.8.8"
  }
 },
 "nbformat": 4,
 "nbformat_minor": 5
}
