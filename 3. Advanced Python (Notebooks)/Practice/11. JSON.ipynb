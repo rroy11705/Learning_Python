{
 "cells": [
  {
   "cell_type": "code",
   "execution_count": 17,
   "id": "2fb97971",
   "metadata": {},
   "outputs": [],
   "source": [
    "import json"
   ]
  },
  {
   "cell_type": "code",
   "execution_count": 4,
   "id": "c71ce08a",
   "metadata": {},
   "outputs": [
    {
     "name": "stdout",
     "output_type": "stream",
     "text": [
      "{\"name\": \"Rahul\", \"age\": 21, \"city\": \"Kolkata\", \"hasChildren\": false, \"titles\": [\"engineer\", \"programmer\"]}\n",
      "{\n",
      "    \"age\": 21,\n",
      "    \"city\": \"Kolkata\",\n",
      "    \"hasChildren\": false,\n",
      "    \"name\": \"Rahul\",\n",
      "    \"titles\": [\n",
      "        \"engineer\",\n",
      "        \"programmer\"\n",
      "    ]\n",
      "}\n"
     ]
    }
   ],
   "source": [
    "person = {\"name\": \"Rahul\", \"age\": 21, \"city\": \"Kolkata\", \"hasChildren\": False, \"titles\": [\"engineer\", \"programmer\"]}\n",
    "\n",
    "# convert into JSON:\n",
    "person_json = json.dumps(person)\n",
    "\n",
    "# use different formatting style\n",
    "person_json2 = json.dumps(person, \n",
    "                          indent=4, \n",
    "#                           separators=(\"; \", \"= \"), \n",
    "                          sort_keys=True)\n",
    "\n",
    "# the result is a JSON string:\n",
    "print(person_json) \n",
    "print(person_json2) "
   ]
  },
  {
   "cell_type": "code",
   "execution_count": 5,
   "id": "c02fa3b4",
   "metadata": {},
   "outputs": [],
   "source": [
    "with open('person.json', 'w') as f:\n",
    "    json.dump(person, f)"
   ]
  },
  {
   "cell_type": "code",
   "execution_count": 8,
   "id": "cf1a52d9",
   "metadata": {},
   "outputs": [
    {
     "name": "stdout",
     "output_type": "stream",
     "text": [
      "{'age': 21, 'city': 'Kolkata', 'hasChildren': False, 'name': 'Rahul', 'titles': ['engineer', 'programmer']}\n"
     ]
    }
   ],
   "source": [
    "# json to python dict\n",
    "person = json.loads(person_json2)\n",
    "print(person)"
   ]
  },
  {
   "cell_type": "code",
   "execution_count": 9,
   "id": "95eb40b5",
   "metadata": {},
   "outputs": [
    {
     "name": "stdout",
     "output_type": "stream",
     "text": [
      "{'name': 'Rahul', 'age': 21, 'city': 'Kolkata', 'hasChildren': False, 'titles': ['engineer', 'programmer']}\n"
     ]
    }
   ],
   "source": [
    "with open('person.json', 'r') as f:\n",
    "    person = json.load(f)\n",
    "    print(person)"
   ]
  },
  {
   "cell_type": "code",
   "execution_count": 26,
   "id": "6015f1bc",
   "metadata": {},
   "outputs": [
    {
     "name": "stdout",
     "output_type": "stream",
     "text": [
      "<class 'str'> {\"name\": \"Rahul\", \"age\": 21, \"__class__\": \"User\", \"__module__\": \"__main__\"}\n"
     ]
    }
   ],
   "source": [
    "class User:\n",
    "    def __init__(self, name, age):\n",
    "        self.name = name\n",
    "        self.age = age\n",
    "        \n",
    "\n",
    "def encode_user(obj):\n",
    "    if isinstance(obj, User):\n",
    "        return {\n",
    "            'name': obj.name,\n",
    "            'age': obj.age,\n",
    "            '__class__': obj.__class__.__name__,\n",
    "            \"__module__\": obj.__module__\n",
    "        }\n",
    "    else:\n",
    "        raise TypeError('Object of type User is not JSON serializable')\n",
    "    \n",
    "user = User('Rahul', 21)\n",
    "\n",
    "\n",
    "userJson = json.dumps(user, default=encode_user)\n",
    "print(type(userJson), userJson)"
   ]
  },
  {
   "cell_type": "code",
   "execution_count": 21,
   "id": "85bf2993",
   "metadata": {},
   "outputs": [],
   "source": [
    "def decode_user(dct):\n",
    "    if User.__name__ in dct:\n",
    "        return complex(name=dct[\"name\"], age=dct[\"age\"])\n",
    "    return dct"
   ]
  },
  {
   "cell_type": "code",
   "execution_count": 24,
   "id": "4d31d41c",
   "metadata": {},
   "outputs": [
    {
     "name": "stdout",
     "output_type": "stream",
     "text": [
      "<class 'dict'> {'name': 'Rahul', 'age': 21, '__class__': 'User', '__module__': '__main__'}\n"
     ]
    }
   ],
   "source": [
    "user = json.loads(userJson, object_hook=decode_user)\n",
    "print(type(user), user)"
   ]
  },
  {
   "cell_type": "code",
   "execution_count": null,
   "id": "e9256e5e",
   "metadata": {},
   "outputs": [],
   "source": []
  }
 ],
 "metadata": {
  "kernelspec": {
   "display_name": "Python 3",
   "language": "python",
   "name": "python3"
  },
  "language_info": {
   "codemirror_mode": {
    "name": "ipython",
    "version": 3
   },
   "file_extension": ".py",
   "mimetype": "text/x-python",
   "name": "python",
   "nbconvert_exporter": "python",
   "pygments_lexer": "ipython3",
   "version": "3.8.8"
  }
 },
 "nbformat": 4,
 "nbformat_minor": 5
}
